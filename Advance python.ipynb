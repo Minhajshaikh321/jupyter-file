{
 "cells": [
  {
   "cell_type": "markdown",
   "id": "d33ad2ab",
   "metadata": {},
   "source": [
    "# LAMBDA QUESTIONS"
   ]
  },
  {
   "cell_type": "markdown",
   "id": "ad3ad1bf",
   "metadata": {},
   "source": [
    "# FIND EVEN AND ODD NUMBERS USING LAMBDA"
   ]
  },
  {
   "cell_type": "code",
   "execution_count": 1,
   "id": "89cf2e42",
   "metadata": {
    "scrolled": true
   },
   "outputs": [
    {
     "name": "stdout",
     "output_type": "stream",
     "text": [
      "['odd', 'even', 'odd', 'even']\n"
     ]
    }
   ],
   "source": [
    "lst=[1,2,3,4]\n",
    "final_lst=[(lambda x:\"even\" if x%2==0 else \"odd\")(x) for x in lst]\n",
    "print(final_lst)"
   ]
  },
  {
   "cell_type": "code",
   "execution_count": 10,
   "id": "0724959f",
   "metadata": {},
   "outputs": [
    {
     "name": "stdout",
     "output_type": "stream",
     "text": [
      "[0, 1, 8, 27, 64, 125, 216, 343, 512, 729]\n"
     ]
    }
   ],
   "source": [
    "a=[(lambda x: x**3)(x) for x in range(10)]\n",
    "print(a)"
   ]
  },
  {
   "cell_type": "code",
   "execution_count": 52,
   "id": "d504dd34",
   "metadata": {},
   "outputs": [
    {
     "name": "stdout",
     "output_type": "stream",
     "text": [
      "5\n"
     ]
    }
   ],
   "source": [
    "minus=lambda x,y:x-y\n",
    "print(minus(9,4))"
   ]
  },
  {
   "cell_type": "markdown",
   "id": "4554a2b9",
   "metadata": {},
   "source": [
    "# MAP QUESTIONS"
   ]
  },
  {
   "cell_type": "code",
   "execution_count": 19,
   "id": "48be87fa",
   "metadata": {},
   "outputs": [
    {
     "name": "stdout",
     "output_type": "stream",
     "text": [
      "[22, 24, 26, 28, 30]\n"
     ]
    }
   ],
   "source": [
    "num=[11,12,13,14,15]\n",
    "nums=map(lambda x:x*2,num)\n",
    "print(list(nums))"
   ]
  },
  {
   "cell_type": "code",
   "execution_count": 62,
   "id": "0cf5ee79",
   "metadata": {},
   "outputs": [
    {
     "name": "stdout",
     "output_type": "stream",
     "text": [
      "[0, 0]\n",
      "[1, 1]\n",
      "[4, 8]\n",
      "[9, 27]\n"
     ]
    }
   ],
   "source": [
    "def square(a):\n",
    "    return a*a\n",
    "def cube(a):\n",
    "    return a*a*a\n",
    "func=[square,cube]\n",
    "for i in range(4):\n",
    "    val=list(map(lambda x:x(i),func))\n",
    "    print(val)"
   ]
  },
  {
   "cell_type": "code",
   "execution_count": 65,
   "id": "4655fd30",
   "metadata": {},
   "outputs": [
    {
     "name": "stdout",
     "output_type": "stream",
     "text": [
      "[2, 4, 8, 16]\n"
     ]
    }
   ],
   "source": [
    "base=[2,2,2,2]\n",
    "num=[1,2,3,4]\n",
    "result=list(map(pow,base,num))\n",
    "print(result)"
   ]
  },
  {
   "cell_type": "markdown",
   "id": "f53723dc",
   "metadata": {},
   "source": [
    "# ip=[1,2,3,4] => op=[2,8,18,32]"
   ]
  },
  {
   "cell_type": "code",
   "execution_count": 22,
   "id": "4fe46585",
   "metadata": {},
   "outputs": [
    {
     "name": "stdout",
     "output_type": "stream",
     "text": [
      "[2, 8, 18, 32]\n"
     ]
    }
   ],
   "source": [
    "l=[1,2,3,4]\n",
    "m=map(lambda x:x**2 + x**2,l)\n",
    "print(list(m))"
   ]
  },
  {
   "cell_type": "code",
   "execution_count": 27,
   "id": "ddc2331f",
   "metadata": {},
   "outputs": [
    {
     "name": "stdout",
     "output_type": "stream",
     "text": [
      "[2, 8, 18, 32]\n"
     ]
    }
   ],
   "source": [
    "l=[1,2,3,4]\n",
    "c=[]\n",
    "for i in l:\n",
    "    c.append(i**2 + i**2)   \n",
    "print(c)    "
   ]
  },
  {
   "cell_type": "markdown",
   "id": "ee5b388b",
   "metadata": {},
   "source": [
    "# FILTER QUESTION"
   ]
  },
  {
   "cell_type": "code",
   "execution_count": 31,
   "id": "48cc547b",
   "metadata": {},
   "outputs": [
    {
     "name": "stdout",
     "output_type": "stream",
     "text": [
      "[2, 4]\n"
     ]
    }
   ],
   "source": [
    "numbers = (1, 2, 3, 4)\n",
    "result = filter(lambda x:x%2==0,numbers)\n",
    "print(list(result))"
   ]
  },
  {
   "cell_type": "code",
   "execution_count": 54,
   "id": "a2d52332",
   "metadata": {},
   "outputs": [
    {
     "name": "stdout",
     "output_type": "stream",
     "text": [
      "[6, 7, 8, 9, 10]\n"
     ]
    }
   ],
   "source": [
    "lst=[1,2,3,4,5,6,7,8,9,10]\n",
    "def is_greater(num):\n",
    "    return num>5\n",
    "gr_than=list(filter(is_greater,lst))\n",
    "print(gr_than)"
   ]
  },
  {
   "cell_type": "markdown",
   "id": "03798f03",
   "metadata": {},
   "source": [
    "# ip=[5,8,15,19] => op=[5,3,7,4]"
   ]
  },
  {
   "cell_type": "code",
   "execution_count": 28,
   "id": "6ead5caa",
   "metadata": {},
   "outputs": [
    {
     "name": "stdout",
     "output_type": "stream",
     "text": [
      "[5, 3, 7, 4]\n"
     ]
    }
   ],
   "source": [
    "my_list = [5,8,15,19]\n",
    "diff_list = []\n",
    "for i in range(1,len(my_list)):\n",
    "    x = my_list[i] - my_list[i-1]\n",
    "    diff_list.append(x)\n",
    "diffs =[my_list[0]] + [x-y for x, y in zip(my_list[1:], my_list[:-1])]\n",
    "print(diffs)"
   ]
  },
  {
   "cell_type": "code",
   "execution_count": null,
   "id": "c48cd0a1",
   "metadata": {},
   "outputs": [],
   "source": [
    "# z=[5,8,15,19]\n",
    "print(z[1:],z[:-1])\n",
    "# print(z[:-1])"
   ]
  },
  {
   "cell_type": "markdown",
   "id": "4cd077e3",
   "metadata": {},
   "source": [
    "# REDUCE QUESTIONS"
   ]
  },
  {
   "cell_type": "code",
   "execution_count": 1,
   "id": "dd2125d7",
   "metadata": {},
   "outputs": [
    {
     "name": "stdout",
     "output_type": "stream",
     "text": [
      "136\n",
      "<class 'int'>\n"
     ]
    }
   ],
   "source": [
    "from functools import reduce\n",
    "score=[23,34,12,67]\n",
    "total=reduce(lambda a,b:a+b,score)\n",
    "print(total)\n",
    "print(type(total))"
   ]
  },
  {
   "cell_type": "code",
   "execution_count": 64,
   "id": "5081bb73",
   "metadata": {},
   "outputs": [
    {
     "name": "stdout",
     "output_type": "stream",
     "text": [
      "24\n"
     ]
    }
   ],
   "source": [
    "from functools import reduce\n",
    "score=[1,2,3,4]\n",
    "total=reduce(lambda a,b:a*b,score)\n",
    "print(total)"
   ]
  },
  {
   "cell_type": "code",
   "execution_count": 66,
   "id": "ebfb5149",
   "metadata": {},
   "outputs": [
    {
     "name": "stdout",
     "output_type": "stream",
     "text": [
      "46\n"
     ]
    }
   ],
   "source": [
    "from functools import reduce\n",
    "score=[23,34,12,67]\n",
    "c=list(filter(lambda x:x%2==0,score))\n",
    "total=reduce(lambda a,b:a+b,c)\n",
    "print(total)"
   ]
  },
  {
   "cell_type": "code",
   "execution_count": 2,
   "id": "7432b534",
   "metadata": {
    "scrolled": false
   },
   "outputs": [
    {
     "name": "stdout",
     "output_type": "stream",
     "text": [
      "67\n"
     ]
    }
   ],
   "source": [
    "from functools import reduce\n",
    "score=[23,34,12,67]\n",
    "total=reduce(lambda a,b:a if a>b else b,score)\n",
    "print(total)"
   ]
  },
  {
   "cell_type": "code",
   "execution_count": 6,
   "id": "85d685be",
   "metadata": {},
   "outputs": [
    {
     "ename": "TypeError",
     "evalue": "func() takes 0 positional arguments but 2 were given",
     "output_type": "error",
     "traceback": [
      "\u001b[1;31m---------------------------------------------------------------------------\u001b[0m",
      "\u001b[1;31mTypeError\u001b[0m                                 Traceback (most recent call last)",
      "Input \u001b[1;32mIn [6]\u001b[0m, in \u001b[0;36m<cell line: 8>\u001b[1;34m()\u001b[0m\n\u001b[0;32m      6\u001b[0m         b\n\u001b[0;32m      7\u001b[0m score\u001b[38;5;241m=\u001b[39m[\u001b[38;5;241m23\u001b[39m,\u001b[38;5;241m34\u001b[39m,\u001b[38;5;241m12\u001b[39m,\u001b[38;5;241m67\u001b[39m]\n\u001b[1;32m----> 8\u001b[0m total\u001b[38;5;241m=\u001b[39m\u001b[43mreduce\u001b[49m\u001b[43m(\u001b[49m\u001b[43mfunc\u001b[49m\u001b[43m,\u001b[49m\u001b[43mscore\u001b[49m\u001b[43m)\u001b[49m\n\u001b[0;32m      9\u001b[0m \u001b[38;5;28mprint\u001b[39m(total)\n",
      "\u001b[1;31mTypeError\u001b[0m: func() takes 0 positional arguments but 2 were given"
     ]
    }
   ],
   "source": [
    "from functools import reduce\n",
    "def func():\n",
    "    if a>b:\n",
    "        return a\n",
    "    else:\n",
    "        b\n",
    "score=[23,34,12,67]\n",
    "total=reduce(func,score)\n",
    "print(total)"
   ]
  },
  {
   "cell_type": "markdown",
   "id": "a7b0aac7",
   "metadata": {},
   "source": [
    "# ZIP QUESTION"
   ]
  },
  {
   "cell_type": "code",
   "execution_count": 55,
   "id": "ec8a2aa0",
   "metadata": {},
   "outputs": [
    {
     "name": "stdout",
     "output_type": "stream",
     "text": [
      "[('minhaj', 12), ('suraiya', 13), ('anam', 14)]\n"
     ]
    }
   ],
   "source": [
    "name=['minhaj','suraiya','anam']\n",
    "rollno=[12,13,14]\n",
    "add=zip(name,rollno)\n",
    "print(list(add))"
   ]
  },
  {
   "cell_type": "code",
   "execution_count": 61,
   "id": "9fb7439c",
   "metadata": {},
   "outputs": [
    {
     "name": "stdout",
     "output_type": "stream",
     "text": [
      "{'hardy': 1123, 'alson': 4672, 'jacob': 1633}\n"
     ]
    }
   ],
   "source": [
    "price=[1123,4672,1633]\n",
    "person=['hardy','alson','jacob']\n",
    "d={key:value for key,value in zip(person,price)}\n",
    "print(d)"
   ]
  },
  {
   "cell_type": "code",
   "execution_count": null,
   "id": "c4f17e70",
   "metadata": {},
   "outputs": [],
   "source": []
  },
  {
   "cell_type": "markdown",
   "id": "572e40a9",
   "metadata": {},
   "source": [
    "# ENUMERATE QUESTION"
   ]
  },
  {
   "cell_type": "code",
   "execution_count": 57,
   "id": "dbd8e43c",
   "metadata": {},
   "outputs": [
    {
     "name": "stdout",
     "output_type": "stream",
     "text": [
      "jarvis please buy bhindi\n",
      "jarvis please buy gajar\n"
     ]
    }
   ],
   "source": [
    "l1=['bhindi','aloo','gajar','tamatar']\n",
    "for index,item in enumerate(l1):\n",
    "    if index%2==0:\n",
    "        print(f\"jarvis please buy {item}\")"
   ]
  },
  {
   "cell_type": "code",
   "execution_count": 58,
   "id": "b0aca9b3",
   "metadata": {},
   "outputs": [
    {
     "name": "stdout",
     "output_type": "stream",
     "text": [
      "0 --> abc\n",
      "1 --> def\n",
      "2 --> ghi\n"
     ]
    }
   ],
   "source": [
    "alp=['abc','def','ghi']\n",
    "for pos,name in enumerate(alp):\n",
    "    print(f\"{pos} --> {name}\")"
   ]
  },
  {
   "cell_type": "code",
   "execution_count": 59,
   "id": "5ce81798",
   "metadata": {},
   "outputs": [
    {
     "name": "stdout",
     "output_type": "stream",
     "text": [
      "[(0, 'python'), (1, 'java'), (2, 'cc')]\n"
     ]
    }
   ],
   "source": [
    "program=['python','java','cc']\n",
    "language=enumerate(program)\n",
    "print(list(language))"
   ]
  },
  {
   "cell_type": "markdown",
   "id": "c25c2d2e",
   "metadata": {},
   "source": [
    "# BISECT MODULE"
   ]
  },
  {
   "cell_type": "code",
   "execution_count": 2,
   "id": "7c94d456",
   "metadata": {},
   "outputs": [
    {
     "name": "stdout",
     "output_type": "stream",
     "text": [
      "[506, 507, 508, 509, 510]\n"
     ]
    }
   ],
   "source": [
    "import bisect\n",
    "num=509\n",
    "a=[506,507,508,510]\n",
    "bisect.bisect(a,num)\n",
    "bisect.insort(a,num)\n",
    "print(a)"
   ]
  },
  {
   "cell_type": "code",
   "execution_count": null,
   "id": "9eaa203f",
   "metadata": {},
   "outputs": [],
   "source": []
  },
  {
   "cell_type": "markdown",
   "id": "07aa34af",
   "metadata": {},
   "source": [
    "# highest number in list without using map"
   ]
  },
  {
   "cell_type": "code",
   "execution_count": 36,
   "id": "f92b5584",
   "metadata": {},
   "outputs": [
    {
     "name": "stdout",
     "output_type": "stream",
     "text": [
      "80\n"
     ]
    }
   ],
   "source": [
    "lst=[1,10,17,80,20]\n",
    "a=0\n",
    "for i in lst:\n",
    "    if i>a:\n",
    "        a=i\n",
    "print(a)"
   ]
  },
  {
   "cell_type": "code",
   "execution_count": 37,
   "id": "881a626a",
   "metadata": {},
   "outputs": [
    {
     "name": "stdout",
     "output_type": "stream",
     "text": [
      "80\n"
     ]
    }
   ],
   "source": [
    "lst=[1,10,17,80,20]\n",
    "a=0\n",
    "for i in lst:\n",
    "    while i>a:\n",
    "        a=i\n",
    "print(a)"
   ]
  },
  {
   "cell_type": "markdown",
   "id": "20d2a1a6",
   "metadata": {},
   "source": [
    "# second highest number in list without using map"
   ]
  },
  {
   "cell_type": "code",
   "execution_count": 4,
   "id": "7dc29f1e",
   "metadata": {},
   "outputs": [
    {
     "name": "stdout",
     "output_type": "stream",
     "text": [
      "20\n"
     ]
    }
   ],
   "source": [
    "lst=[1,10,17,80,20]\n",
    "for i in range(len(lst)):\n",
    "    if lst[i]>lst[i-1]:\n",
    "        lst[i],lst[i-1]=lst[i-1],lst[i]\n",
    "print(lst[-2])"
   ]
  },
  {
   "cell_type": "code",
   "execution_count": 8,
   "id": "501a4cf3",
   "metadata": {},
   "outputs": [
    {
     "name": "stdout",
     "output_type": "stream",
     "text": [
      "20\n"
     ]
    }
   ],
   "source": [
    "def high_num(lst):\n",
    "    for i in range(1,len(lst)):\n",
    "        while lst[i-1]>lst[i] and i>0:\n",
    "            lst[i-1],lst[i]=lst[i],lst[i-1]\n",
    "            i=i-1\n",
    "    return lst[-2]\n",
    "    \n",
    "    \n",
    "lst=[1,10,17,80,20]\n",
    "print(high_num(lst))"
   ]
  },
  {
   "cell_type": "markdown",
   "id": "10f66616",
   "metadata": {},
   "source": [
    "# unique number in list"
   ]
  },
  {
   "cell_type": "code",
   "execution_count": 67,
   "id": "e5b16ba6",
   "metadata": {},
   "outputs": [
    {
     "name": "stdout",
     "output_type": "stream",
     "text": [
      "[3]\n"
     ]
    }
   ],
   "source": [
    "arr = [2,1,4,3,1,4,2]\n",
    "def odd_occurring_num(arr):\n",
    "    return [i for i in arr if arr.count(i) < 2]\n",
    "# print(arr)\n",
    "\n",
    "print(odd_occurring_num(arr))"
   ]
  },
  {
   "cell_type": "markdown",
   "id": "23b36c3d",
   "metadata": {},
   "source": [
    "### "
   ]
  },
  {
   "cell_type": "code",
   "execution_count": null,
   "id": "729cbbb1",
   "metadata": {},
   "outputs": [],
   "source": []
  },
  {
   "cell_type": "code",
   "execution_count": null,
   "id": "e95e1400",
   "metadata": {},
   "outputs": [],
   "source": []
  },
  {
   "cell_type": "code",
   "execution_count": null,
   "id": "e8aeb425",
   "metadata": {},
   "outputs": [],
   "source": []
  },
  {
   "cell_type": "code",
   "execution_count": null,
   "id": "5aa8164c",
   "metadata": {},
   "outputs": [],
   "source": []
  },
  {
   "cell_type": "markdown",
   "id": "57df0a73",
   "metadata": {},
   "source": [
    "# SORT THE LIST"
   ]
  },
  {
   "cell_type": "code",
   "execution_count": 3,
   "id": "696f80d6",
   "metadata": {},
   "outputs": [
    {
     "name": "stdout",
     "output_type": "stream",
     "text": [
      "[5, 6, 11, 12, 13]\n"
     ]
    }
   ],
   "source": [
    "lt=[11,12,13,5,6]\n",
    "for i in range(1,len(lt)):\n",
    "    while lt[i-1]>lt[i] and i>0: \n",
    "        lt[i-1],lt[i]=lt[i],lt[i-1]\n",
    "        i = i-1\n",
    "# print(\"updated\", lt)        \n",
    "print(lt)"
   ]
  },
  {
   "cell_type": "code",
   "execution_count": 5,
   "id": "52d46b52",
   "metadata": {},
   "outputs": [
    {
     "name": "stdout",
     "output_type": "stream",
     "text": [
      "[1, 2, 3, 5, 6, 7, 9]\n"
     ]
    }
   ],
   "source": [
    "x=[3,6,2,9,5,1,7]\n",
    "x.sort()\n",
    "print(x)"
   ]
  },
  {
   "cell_type": "code",
   "execution_count": 9,
   "id": "51007086",
   "metadata": {},
   "outputs": [
    {
     "name": "stdout",
     "output_type": "stream",
     "text": [
      "[1, 2, 3, 4, 5, 6]\n"
     ]
    }
   ],
   "source": [
    "a = [5,4,3,2,1,6]\n",
    "for i in range(len(a)):\n",
    "    for j in range(i+1,len(a)):\n",
    "        if a[i]>a[j]:\n",
    "            a[i],a[j]=a[j],a[i]\n",
    "print(a)"
   ]
  },
  {
   "cell_type": "code",
   "execution_count": null,
   "id": "c6d7346f",
   "metadata": {},
   "outputs": [],
   "source": []
  },
  {
   "cell_type": "code",
   "execution_count": null,
   "id": "21720c33",
   "metadata": {},
   "outputs": [],
   "source": []
  },
  {
   "cell_type": "code",
   "execution_count": null,
   "id": "0e3010b9",
   "metadata": {},
   "outputs": [],
   "source": []
  },
  {
   "cell_type": "code",
   "execution_count": 6,
   "id": "e9d8e2c6",
   "metadata": {},
   "outputs": [
    {
     "name": "stdout",
     "output_type": "stream",
     "text": [
      "1 correct extension of python file?\n",
      "Ans. py.file\n",
      "2 what is django?\n",
      "Ans. Django is framework?\n",
      "3 what is class in oops?\n",
      "Ans. A class is a blueprint for the object\n",
      "4 what is instance varible?\n",
      "Ans. Attached to an instance of class\n"
     ]
    }
   ],
   "source": [
    "qn=[{\"question\":\"correct extension of python file?\",\n",
    "    \"answer\":\"py.file\",\n",
    "    \"explanation\":\" \"},\n",
    "    {\"question\":\"what is django?\",\n",
    "    \"answer\":\"Django is framework?\",\n",
    "    \"explanation\":\"django is use to create web app\"},\n",
    "    {\"question\":\"what is class in oops?\",\n",
    "    \"answer\":\"A class is a blueprint for the object\",\n",
    "    \"explanation\":\"class contains the properties (attribute) and action (behavior) of the object.\"},\n",
    "    {\"question\":\"what is instance varible?\",\n",
    "    \"answer\":\"Attached to an instance of class\",\n",
    "    \"explanation\":\"Instance variables are not shared by objects. Every object has its own copy of the instance attribute. This means that for each object of a class, the instance variable value is different\"\n",
    "     }]\n",
    "count=1\n",
    "for x in qn:\n",
    "    print(count,x[\"question\"])\n",
    "    count+=1\n",
    "    print(\"Ans.\",x[\"answer\"])\n",
    "\n",
    "\n",
    "#     q=x[\"question\"]\n",
    "#     count=count+1\n",
    "#     print(i,count,'-',j)"
   ]
  },
  {
   "cell_type": "code",
   "execution_count": 7,
   "id": "7049a485",
   "metadata": {},
   "outputs": [
    {
     "name": "stdout",
     "output_type": "stream",
     "text": [
      "without using list comprehension [15, 3, 9]\n",
      "with using list comprehension [15, 3, 9]\n"
     ]
    }
   ],
   "source": [
    "lst=[32,35,15,3,5,7,9,20]\n",
    "lst2=[]\n",
    "for item in lst:\n",
    "    if item%3==0:\n",
    "        lst2.append(item)\n",
    "print('without using list comprehension',lst2)\n",
    "#in one line\n",
    "print('with using list comprehension',[x for x in lst if x%3==0])"
   ]
  },
  {
   "cell_type": "code",
   "execution_count": null,
   "id": "3a28d913",
   "metadata": {},
   "outputs": [],
   "source": []
  }
 ],
 "metadata": {
  "kernelspec": {
   "display_name": "Python 3 (ipykernel)",
   "language": "python",
   "name": "python3"
  },
  "language_info": {
   "codemirror_mode": {
    "name": "ipython",
    "version": 3
   },
   "file_extension": ".py",
   "mimetype": "text/x-python",
   "name": "python",
   "nbconvert_exporter": "python",
   "pygments_lexer": "ipython3",
   "version": "3.10.6"
  }
 },
 "nbformat": 4,
 "nbformat_minor": 5
}
