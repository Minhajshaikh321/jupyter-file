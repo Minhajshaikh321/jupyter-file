{
 "cells": [
  {
   "cell_type": "markdown",
   "id": "e337e5b6",
   "metadata": {},
   "source": [
    "# write a python program to find common letters between two strings"
   ]
  },
  {
   "cell_type": "code",
   "execution_count": 12,
   "id": "1aa8c9ea",
   "metadata": {},
   "outputs": [
    {
     "name": "stdout",
     "output_type": "stream",
     "text": [
      "2\n",
      "1\n"
     ]
    }
   ],
   "source": [
    "a=\"naina\"\n",
    "b=\"reena\"\n",
    "for i in range(0,len(a)): \n",
    "    c=a.count('n')\n",
    "print(c)\n",
    "for j in range(0,len(b)):    \n",
    "    d=b.count('n')\n",
    "print(d)\n",
    "# if c==d:\n",
    "#     print(i)"
   ]
  },
  {
   "cell_type": "code",
   "execution_count": 41,
   "id": "2b22d147",
   "metadata": {},
   "outputs": [
    {
     "name": "stdout",
     "output_type": "stream",
     "text": [
      "enter first string:anam\n",
      "enter second string:iram\n",
      "common charaters are {'m', 'a'}\n"
     ]
    }
   ],
   "source": [
    "def common_str():\n",
    "    str1=input('enter first string:')\n",
    "    str2=input('enter second string:')\n",
    "    s1=set(str1)\n",
    "    s2=set(str2)\n",
    "#     print(s1)\n",
    "#     print(s2)\n",
    "    lst=s1 & s2\n",
    "    print('common charaters are',lst)\n",
    "common_str()    "
   ]
  },
  {
   "cell_type": "code",
   "execution_count": 18,
   "id": "d688d103",
   "metadata": {},
   "outputs": [
    {
     "name": "stdout",
     "output_type": "stream",
     "text": [
      "{'s', 'n'}\n"
     ]
    }
   ],
   "source": [
    "a={'s','u','n'}\n",
    "b={'s','o','n'}\n",
    "c=a & b\n",
    "print(c)"
   ]
  },
  {
   "cell_type": "markdown",
   "id": "b5447e72",
   "metadata": {},
   "source": [
    "# Write a python program to count the frequency of words appearing in string"
   ]
  },
  {
   "cell_type": "code",
   "execution_count": 3,
   "id": "cb4b1577",
   "metadata": {},
   "outputs": [
    {
     "ename": "KeyboardInterrupt",
     "evalue": "Interrupted by user",
     "output_type": "error",
     "traceback": [
      "\u001b[1;31m---------------------------------------------------------------------------\u001b[0m",
      "\u001b[1;31mKeyboardInterrupt\u001b[0m                         Traceback (most recent call last)",
      "Input \u001b[1;32mIn [3]\u001b[0m, in \u001b[0;36m<cell line: 2>\u001b[1;34m()\u001b[0m\n\u001b[0;32m      1\u001b[0m \u001b[38;5;66;03m# txt = \"I love red apples apples is red my favorite color\"\u001b[39;00m\n\u001b[1;32m----> 2\u001b[0m x\u001b[38;5;241m=\u001b[39m\u001b[38;5;28;43minput\u001b[39;49m\u001b[43m(\u001b[49m\u001b[38;5;124;43m'\u001b[39;49m\u001b[38;5;124;43mEnter str \u001b[39;49m\u001b[38;5;124;43m'\u001b[39;49m\u001b[43m)\u001b[49m\n\u001b[0;32m      3\u001b[0m x\u001b[38;5;241m=\u001b[39mx\u001b[38;5;241m.\u001b[39msplit()\n\u001b[0;32m      4\u001b[0m \u001b[38;5;66;03m# print(x)\u001b[39;00m\n",
      "File \u001b[1;32m~\\AppData\\Local\\Programs\\Python\\Python310\\lib\\site-packages\\ipykernel\\kernelbase.py:1161\u001b[0m, in \u001b[0;36mKernel.raw_input\u001b[1;34m(self, prompt)\u001b[0m\n\u001b[0;32m   1157\u001b[0m \u001b[38;5;28;01mif\u001b[39;00m \u001b[38;5;129;01mnot\u001b[39;00m \u001b[38;5;28mself\u001b[39m\u001b[38;5;241m.\u001b[39m_allow_stdin:\n\u001b[0;32m   1158\u001b[0m     \u001b[38;5;28;01mraise\u001b[39;00m StdinNotImplementedError(\n\u001b[0;32m   1159\u001b[0m         \u001b[38;5;124m\"\u001b[39m\u001b[38;5;124mraw_input was called, but this frontend does not support input requests.\u001b[39m\u001b[38;5;124m\"\u001b[39m\n\u001b[0;32m   1160\u001b[0m     )\n\u001b[1;32m-> 1161\u001b[0m \u001b[38;5;28;01mreturn\u001b[39;00m \u001b[38;5;28;43mself\u001b[39;49m\u001b[38;5;241;43m.\u001b[39;49m\u001b[43m_input_request\u001b[49m\u001b[43m(\u001b[49m\n\u001b[0;32m   1162\u001b[0m \u001b[43m    \u001b[49m\u001b[38;5;28;43mstr\u001b[39;49m\u001b[43m(\u001b[49m\u001b[43mprompt\u001b[49m\u001b[43m)\u001b[49m\u001b[43m,\u001b[49m\n\u001b[0;32m   1163\u001b[0m \u001b[43m    \u001b[49m\u001b[38;5;28;43mself\u001b[39;49m\u001b[38;5;241;43m.\u001b[39;49m\u001b[43m_parent_ident\u001b[49m\u001b[43m[\u001b[49m\u001b[38;5;124;43m\"\u001b[39;49m\u001b[38;5;124;43mshell\u001b[39;49m\u001b[38;5;124;43m\"\u001b[39;49m\u001b[43m]\u001b[49m\u001b[43m,\u001b[49m\n\u001b[0;32m   1164\u001b[0m \u001b[43m    \u001b[49m\u001b[38;5;28;43mself\u001b[39;49m\u001b[38;5;241;43m.\u001b[39;49m\u001b[43mget_parent\u001b[49m\u001b[43m(\u001b[49m\u001b[38;5;124;43m\"\u001b[39;49m\u001b[38;5;124;43mshell\u001b[39;49m\u001b[38;5;124;43m\"\u001b[39;49m\u001b[43m)\u001b[49m\u001b[43m,\u001b[49m\n\u001b[0;32m   1165\u001b[0m \u001b[43m    \u001b[49m\u001b[43mpassword\u001b[49m\u001b[38;5;241;43m=\u001b[39;49m\u001b[38;5;28;43;01mFalse\u001b[39;49;00m\u001b[43m,\u001b[49m\n\u001b[0;32m   1166\u001b[0m \u001b[43m\u001b[49m\u001b[43m)\u001b[49m\n",
      "File \u001b[1;32m~\\AppData\\Local\\Programs\\Python\\Python310\\lib\\site-packages\\ipykernel\\kernelbase.py:1205\u001b[0m, in \u001b[0;36mKernel._input_request\u001b[1;34m(self, prompt, ident, parent, password)\u001b[0m\n\u001b[0;32m   1202\u001b[0m             \u001b[38;5;28;01mbreak\u001b[39;00m\n\u001b[0;32m   1203\u001b[0m \u001b[38;5;28;01mexcept\u001b[39;00m \u001b[38;5;167;01mKeyboardInterrupt\u001b[39;00m:\n\u001b[0;32m   1204\u001b[0m     \u001b[38;5;66;03m# re-raise KeyboardInterrupt, to truncate traceback\u001b[39;00m\n\u001b[1;32m-> 1205\u001b[0m     \u001b[38;5;28;01mraise\u001b[39;00m \u001b[38;5;167;01mKeyboardInterrupt\u001b[39;00m(\u001b[38;5;124m\"\u001b[39m\u001b[38;5;124mInterrupted by user\u001b[39m\u001b[38;5;124m\"\u001b[39m) \u001b[38;5;28;01mfrom\u001b[39;00m \u001b[38;5;28mNone\u001b[39m\n\u001b[0;32m   1206\u001b[0m \u001b[38;5;28;01mexcept\u001b[39;00m \u001b[38;5;167;01mException\u001b[39;00m:\n\u001b[0;32m   1207\u001b[0m     \u001b[38;5;28mself\u001b[39m\u001b[38;5;241m.\u001b[39mlog\u001b[38;5;241m.\u001b[39mwarning(\u001b[38;5;124m\"\u001b[39m\u001b[38;5;124mInvalid Message:\u001b[39m\u001b[38;5;124m\"\u001b[39m, exc_info\u001b[38;5;241m=\u001b[39m\u001b[38;5;28;01mTrue\u001b[39;00m)\n",
      "\u001b[1;31mKeyboardInterrupt\u001b[0m: Interrupted by user"
     ]
    }
   ],
   "source": [
    "# txt = \"I love red apples apples is red my favorite color\"\n",
    "x=input('Enter str ')\n",
    "x=x.split()\n",
    "# print(x)\n",
    "d={}\n",
    "for i in x:\n",
    "    if i not in d.keys():\n",
    "        d[i]=0\n",
    "    d[i]=d[i]+1\n",
    "print(d)    "
   ]
  },
  {
   "cell_type": "markdown",
   "id": "8fe4c60c",
   "metadata": {},
   "source": [
    "\n",
    "# sort the list"
   ]
  },
  {
   "cell_type": "code",
   "execution_count": 3,
   "id": "8e3647ed",
   "metadata": {},
   "outputs": [
    {
     "name": "stdout",
     "output_type": "stream",
     "text": [
      "[1, 3, 5, 7, 9, 17]\n"
     ]
    }
   ],
   "source": [
    "sort_list=[3,5,1,7,9,17]\n",
    "for i in range(1,len(sort_list)):\n",
    "    while sort_list[i-1]>sort_list[i] and i>0:\n",
    "        sort_list[i-1],sort_list[i]=sort_list[i],sort_list[i-1]\n",
    "        i-=1\n",
    "print(sort_list)        "
   ]
  },
  {
   "cell_type": "code",
   "execution_count": 11,
   "id": "09948760",
   "metadata": {},
   "outputs": [
    {
     "name": "stdout",
     "output_type": "stream",
     "text": [
      "0\n",
      "1\n",
      "1\n",
      "2\n",
      "3\n",
      "5\n",
      "8\n",
      "13\n",
      "21\n",
      "34\n",
      "55\n",
      "89\n"
     ]
    }
   ],
   "source": [
    "def fibo(n):\n",
    "    a=0\n",
    "    b=1\n",
    "    print(a)\n",
    "    print(b)\n",
    "    for i in range(n): \n",
    "        a,b=b,a+b\n",
    "        print(b)\n",
    "fibo(10)    "
   ]
  },
  {
   "cell_type": "code",
   "execution_count": 13,
   "id": "111b64f4",
   "metadata": {},
   "outputs": [
    {
     "name": "stdout",
     "output_type": "stream",
     "text": [
      "8\n",
      "0\n",
      "1\n",
      "1\n",
      "2\n",
      "3\n",
      "5\n",
      "8\n",
      "13\n"
     ]
    }
   ],
   "source": [
    "def fibon(n):\n",
    "    if n<=1:\n",
    "        return n\n",
    "    else:\n",
    "        return (fibon(n-1) + fibon(n-2))\n",
    "n=int(input())\n",
    "if n<=0:\n",
    "    print('invalid')\n",
    "    \n",
    "else:\n",
    "    for i in range(n):\n",
    "        print(fibon(i))"
   ]
  },
  {
   "cell_type": "code",
   "execution_count": 3,
   "id": "5ed30c45",
   "metadata": {},
   "outputs": [
    {
     "name": "stdout",
     "output_type": "stream",
     "text": [
      "[4, 5, 0, 1, 2, 3]\n"
     ]
    }
   ],
   "source": [
    "nums = [5,0,1,2,3,4]\n",
    "# Output: [0,1,2,4,5,3]\n",
    "# Explanation: The array ans is built as follows: \n",
    "ans = [nums[nums[0]], nums[nums[1]], nums[nums[2]], nums[nums[3]], nums[nums[4]], nums[nums[5]]]\n",
    "[nums[0], nums[2], nums[1], nums[5], nums[3], nums[4]]\n",
    "#     = [0,1,2,4,5,3]\n",
    "print(ans)\n"
   ]
  },
  {
   "cell_type": "code",
   "execution_count": 1,
   "id": "ab7e7d61",
   "metadata": {},
   "outputs": [
    {
     "name": "stdout",
     "output_type": "stream",
     "text": [
      "4\n",
      "5\n",
      "0\n",
      "1\n",
      "2\n",
      "3\n"
     ]
    }
   ],
   "source": [
    "nums = [5,0,1,2,3,4]\n",
    "# Output: [0,1,2,4,5,3]\n",
    "# Explanation: The array ans is built as follows: \n",
    "for i in nums:\n",
    "#     print(i)\n",
    "#     a=[nums[nums[i]]]\n",
    "    a=nums[i]\n",
    "    i+=1\n",
    "    print(a)\n"
   ]
  },
  {
   "cell_type": "code",
   "execution_count": 8,
   "id": "d1702650",
   "metadata": {},
   "outputs": [
    {
     "name": "stdout",
     "output_type": "stream",
     "text": [
      "[0, 1, 2, 4, 5, 3]\n"
     ]
    }
   ],
   "source": [
    "# a=[5,0,1,2,3,4]\n",
    "a=[0,2,1,5,3,4]\n",
    "b=[]\n",
    "for i in a:\n",
    "    c=a[i]\n",
    "    b.append(c)\n",
    "print(b)    "
   ]
  },
  {
   "cell_type": "code",
   "execution_count": 7,
   "id": "b6e2a253",
   "metadata": {},
   "outputs": [
    {
     "name": "stdout",
     "output_type": "stream",
     "text": [
      "[0, 1, 2, 4, 5, 3]\n"
     ]
    }
   ],
   "source": [
    "def replace_index(given_list):\n",
    "    for i in given_list:\n",
    "        l=given_list[i]\n",
    "        new_list.append(l)\n",
    "    print(new_list)\n",
    "given_list=[0,2,1,5,3,4]\n",
    "new_list=[]\n",
    "replace_index(given_list)"
   ]
  },
  {
   "cell_type": "code",
   "execution_count": 26,
   "id": "69dcac51",
   "metadata": {},
   "outputs": [
    {
     "name": "stdout",
     "output_type": "stream",
     "text": [
      "18\n"
     ]
    }
   ],
   "source": [
    "wealth=[[1,2,3],[3,4,5],[5,6,7]]\n",
    "for i in wealth:\n",
    "    for j in wealth:\n",
    "        if sum(i)>sum(j):\n",
    "            c=sum(i)\n",
    "print(c)            "
   ]
  },
  {
   "cell_type": "code",
   "execution_count": 5,
   "id": "fbb8379c",
   "metadata": {},
   "outputs": [
    {
     "name": "stdout",
     "output_type": "stream",
     "text": [
      "21\n"
     ]
    }
   ],
   "source": [
    "wealth=[[12,5,4],[7,3,9],[3,5,9]]\n",
    "b=[]\n",
    "for i in wealth:\n",
    "    b.append(sum(i))\n",
    "print(max(b))"
   ]
  },
  {
   "cell_type": "code",
   "execution_count": 1,
   "id": "d38dbb46",
   "metadata": {},
   "outputs": [
    {
     "name": "stdout",
     "output_type": "stream",
     "text": [
      "[2, 3, 4, 24, 2, 3, 4, 24]\n"
     ]
    }
   ],
   "source": [
    "l=[2,3,4,24]\n",
    "m=[]\n",
    "for i in l:\n",
    "    m=l.copy()*2\n",
    "print(m)"
   ]
  },
  {
   "cell_type": "code",
   "execution_count": 8,
   "id": "b9e7093b",
   "metadata": {},
   "outputs": [
    {
     "name": "stdout",
     "output_type": "stream",
     "text": [
      "1\n",
      "2\n",
      "3\n"
     ]
    }
   ],
   "source": [
    "m=[1,2,3]\n",
    "for i in m:\n",
    "    print(i)\n",
    "    i+=1"
   ]
  },
  {
   "cell_type": "code",
   "execution_count": 3,
   "id": "ad7b6440",
   "metadata": {},
   "outputs": [
    {
     "name": "stdout",
     "output_type": "stream",
     "text": [
      "[0, 5, 8]\n"
     ]
    }
   ],
   "source": [
    "my_list = [5, 3, 7]\n",
    "a=[x + sum(my_list[:n]) for n in range(0,len(my_list))]\n",
    "print(a)"
   ]
  },
  {
   "cell_type": "code",
   "execution_count": 5,
   "id": "c3430fe5",
   "metadata": {},
   "outputs": [
    {
     "name": "stdout",
     "output_type": "stream",
     "text": [
      "[1, 3, 6, 10]\n"
     ]
    }
   ],
   "source": [
    "m=[1,2,3,4]\n",
    "for i in range(1,len(m)):\n",
    "    m[i]=m[i]+m[i-1]\n",
    "print(m)"
   ]
  },
  {
   "cell_type": "code",
   "execution_count": 68,
   "id": "22ba6d3e",
   "metadata": {},
   "outputs": [
    {
     "name": "stdout",
     "output_type": "stream",
     "text": [
      "6\n"
     ]
    }
   ],
   "source": [
    "n=[10,34,6,7]\n",
    "a=n[0]\n",
    "for i in n:\n",
    "    if i<a:\n",
    "        a=i\n",
    "print(a)        "
   ]
  },
  {
   "cell_type": "code",
   "execution_count": 19,
   "id": "2a2ab29d",
   "metadata": {},
   "outputs": [
    {
     "name": "stdout",
     "output_type": "stream",
     "text": [
      "[1, 4, 2, 3]\n"
     ]
    }
   ],
   "source": [
    "l=[1,4,2,3]\n",
    "m=0\n",
    "for i in l:\n",
    "    if m>i:\n",
    "        i=m\n",
    "print(l)   "
   ]
  },
  {
   "cell_type": "markdown",
   "id": "298f4de3",
   "metadata": {},
   "source": [
    "# lambda function even odd"
   ]
  },
  {
   "cell_type": "code",
   "execution_count": 2,
   "id": "f4f6aea8",
   "metadata": {},
   "outputs": [
    {
     "name": "stdout",
     "output_type": "stream",
     "text": [
      "['odd', 'even', 'odd']\n"
     ]
    }
   ],
   "source": [
    "l=[1,2,3]\n",
    "m=[(lambda x:\"even\" if x%2==0 else \"odd\") (x) for x in l]\n",
    "print(m)"
   ]
  },
  {
   "cell_type": "code",
   "execution_count": 6,
   "id": "512ebc9c",
   "metadata": {},
   "outputs": [
    {
     "name": "stdout",
     "output_type": "stream",
     "text": [
      "['odd', 'even', 'odd']\n"
     ]
    }
   ],
   "source": [
    "l=[1,2,3]\n",
    "m=[(lambda x:\"even\" if x%2==0 else \"odd\") (x) for x in l]\n",
    "print(m)"
   ]
  },
  {
   "cell_type": "code",
   "execution_count": 10,
   "id": "86853cbd",
   "metadata": {},
   "outputs": [
    {
     "name": "stdout",
     "output_type": "stream",
     "text": [
      "['odd', 'even', 'odd']\n"
     ]
    }
   ],
   "source": [
    "l=[1,2,3]\n",
    "m=[\"even\" if x%2==0 else \"odd\" for x in l]\n",
    "print(m)"
   ]
  },
  {
   "cell_type": "code",
   "execution_count": 31,
   "id": "81184bf9",
   "metadata": {},
   "outputs": [
    {
     "name": "stdout",
     "output_type": "stream",
     "text": [
      "['odd', 'odd', 'even', 'even']\n"
     ]
    }
   ],
   "source": [
    "def even(x):\n",
    "    for i in x:\n",
    "        if i%2 == 0:\n",
    "            q.append(\"even\")\n",
    "        else:\n",
    "            q.append(\"odd\")\n",
    "p=[3,7,8,4]\n",
    "q=[]\n",
    "even(p)\n",
    "print(q)"
   ]
  },
  {
   "cell_type": "code",
   "execution_count": 15,
   "id": "179d3cdd",
   "metadata": {},
   "outputs": [
    {
     "name": "stdout",
     "output_type": "stream",
     "text": [
      "[2]\n"
     ]
    }
   ],
   "source": [
    "l=[1,2,3]\n",
    "m=[x for x in l if x%2==0]\n",
    "print(m)"
   ]
  },
  {
   "cell_type": "code",
   "execution_count": 20,
   "id": "31715ec5",
   "metadata": {},
   "outputs": [
    {
     "name": "stdout",
     "output_type": "stream",
     "text": [
      "[2, 4]\n"
     ]
    }
   ],
   "source": [
    "l=[1,2,3,4,5]\n",
    "m=filter(lambda x:x%2==0 ,l)\n",
    "print(list(m))"
   ]
  },
  {
   "cell_type": "code",
   "execution_count": 28,
   "id": "58568f51",
   "metadata": {},
   "outputs": [
    {
     "ename": "SyntaxError",
     "evalue": "expected 'else' after 'if' expression (817872550.py, line 2)",
     "output_type": "error",
     "traceback": [
      "\u001b[1;36m  Input \u001b[1;32mIn [28]\u001b[1;36m\u001b[0m\n\u001b[1;33m    m=map(lambda x:\"even\" if x%2==0 ,l)\u001b[0m\n\u001b[1;37m                   ^\u001b[0m\n\u001b[1;31mSyntaxError\u001b[0m\u001b[1;31m:\u001b[0m expected 'else' after 'if' expression\n"
     ]
    }
   ],
   "source": [
    "l=[1,2,3,4,5]\n",
    "m=map(lambda x:\"even\" if x%2==0 ,l)\n",
    "print(list(m))"
   ]
  },
  {
   "cell_type": "code",
   "execution_count": 25,
   "id": "1287a4bc",
   "metadata": {},
   "outputs": [
    {
     "name": "stdout",
     "output_type": "stream",
     "text": [
      "15\n"
     ]
    }
   ],
   "source": [
    "from functools import reduce\n",
    "l=[1,2,3,4,5]\n",
    "m=reduce(lambda x,y:x+y ,l)\n",
    "print(m)"
   ]
  },
  {
   "cell_type": "code",
   "execution_count": 29,
   "id": "e3e3e896",
   "metadata": {},
   "outputs": [
    {
     "name": "stdout",
     "output_type": "stream",
     "text": [
      "136\n"
     ]
    }
   ],
   "source": [
    "from functools import reduce\n",
    "score=[23,34,12,67]\n",
    "total=reduce(lambda a,b:a+b,score)\n",
    "print(total)"
   ]
  },
  {
   "cell_type": "code",
   "execution_count": 30,
   "id": "302a8877",
   "metadata": {
    "scrolled": true
   },
   "outputs": [
    {
     "name": "stdout",
     "output_type": "stream",
     "text": [
      "46\n"
     ]
    }
   ],
   "source": [
    "from functools import reduce\n",
    "score=[23,34,12,67]\n",
    "c=list(filter(lambda x:x%2==0,score))\n",
    "total=reduce(lambda a,b:a+b,c)\n",
    "print(total)"
   ]
  },
  {
   "cell_type": "markdown",
   "id": "ef6998d9",
   "metadata": {},
   "source": [
    "# target qn leet code"
   ]
  },
  {
   "cell_type": "code",
   "execution_count": 32,
   "id": "89cdb43a",
   "metadata": {},
   "outputs": [
    {
     "name": "stdout",
     "output_type": "stream",
     "text": [
      "[0, 2]\n"
     ]
    }
   ],
   "source": [
    "num=[2,7,11]\n",
    "target=13\n",
    "for i in range(len(num)):\n",
    "    for j in range(len(num)):\n",
    "        if num[j] + num[i]==target:\n",
    "            a=(j,i)\n",
    "print(list(a))"
   ]
  },
  {
   "cell_type": "markdown",
   "id": "393f022f",
   "metadata": {},
   "source": [
    "# built array from permutation leet code"
   ]
  },
  {
   "cell_type": "code",
   "execution_count": 1,
   "id": "360c3eb1",
   "metadata": {},
   "outputs": [
    {
     "name": "stdout",
     "output_type": "stream",
     "text": [
      "[0, 1, 2, 4, 5, 3]\n"
     ]
    }
   ],
   "source": [
    "# a=[5,0,1,2,3,4]\n",
    "a=[0,2,1,5,3,4]\n",
    "b=[]\n",
    "for i in a:\n",
    "    c=a[i]\n",
    "    b.append(c)\n",
    "print(b)    "
   ]
  },
  {
   "cell_type": "markdown",
   "id": "703a6272",
   "metadata": {},
   "source": [
    "# Richest costumer wealth leet code"
   ]
  },
  {
   "cell_type": "code",
   "execution_count": 2,
   "id": "19f76ac6",
   "metadata": {},
   "outputs": [
    {
     "name": "stdout",
     "output_type": "stream",
     "text": [
      "18\n"
     ]
    }
   ],
   "source": [
    "wealth=[[1,2,3],[3,4,5],[5,6,7]]\n",
    "for i in wealth:\n",
    "    for j in wealth:\n",
    "        if sum(i)>sum(j):\n",
    "            c=sum(i)\n",
    "print(c)            "
   ]
  },
  {
   "cell_type": "markdown",
   "id": "1ee3bfeb",
   "metadata": {},
   "source": [
    "# Concatenation of two array leet code"
   ]
  },
  {
   "cell_type": "code",
   "execution_count": 3,
   "id": "e38d8686",
   "metadata": {},
   "outputs": [
    {
     "name": "stdout",
     "output_type": "stream",
     "text": [
      "[2, 3, 4, 24, 2, 3, 4, 24]\n"
     ]
    }
   ],
   "source": [
    "l=[2,3,4,24]\n",
    "m=[]\n",
    "for i in l:\n",
    "    m=l.copy()*2\n",
    "print(m)"
   ]
  },
  {
   "cell_type": "markdown",
   "id": "4946df96",
   "metadata": {},
   "source": [
    "# Running sum of 1d array"
   ]
  },
  {
   "cell_type": "code",
   "execution_count": 4,
   "id": "2a5824e4",
   "metadata": {},
   "outputs": [
    {
     "name": "stdout",
     "output_type": "stream",
     "text": [
      "[1, 3, 6, 10]\n"
     ]
    }
   ],
   "source": [
    "m=[1,2,3,4]\n",
    "for i in range(1,len(m)):\n",
    "    m[i]=m[i]+m[i-1]\n",
    "print(m)"
   ]
  },
  {
   "cell_type": "markdown",
   "id": "d486a62d",
   "metadata": {},
   "source": [
    "# Shuffle the array"
   ]
  },
  {
   "cell_type": "code",
   "execution_count": 5,
   "id": "43f8f337",
   "metadata": {},
   "outputs": [],
   "source": [
    "def shuffle(self, nums, n):\n",
    "    result = []\n",
    "    for index in range(n):\n",
    "        result.append(nums[index])\n",
    "        result.append(nums[index + n])\n",
    "    return result\n"
   ]
  },
  {
   "cell_type": "code",
   "execution_count": 13,
   "id": "94f1184f",
   "metadata": {},
   "outputs": [
    {
     "name": "stdout",
     "output_type": "stream",
     "text": [
      "[2, 3, 5, 4, 1, 7]\n"
     ]
    }
   ],
   "source": [
    "a=[2,5,1,3,4,7]\n",
    "# a=[1,1,2,2]\n",
    "c=[]\n",
    "n=3\n",
    "for i in range(n):\n",
    "    c.append(a[i])\n",
    "    c.append(a[i+n])\n",
    "print(c)    "
   ]
  },
  {
   "cell_type": "markdown",
   "id": "a6d47680",
   "metadata": {},
   "source": [
    "# Kids with greatest number"
   ]
  },
  {
   "cell_type": "code",
   "execution_count": 40,
   "id": "b6456545",
   "metadata": {},
   "outputs": [
    {
     "name": "stdout",
     "output_type": "stream",
     "text": [
      "[True, True, True, False, True]\n"
     ]
    }
   ],
   "source": [
    "kids=[2,3,5,1,3]\n",
    "candy=3\n",
    "a=[]\n",
    "for i in range(0,len(kids)):\n",
    "        if kids[i]+candy >= max(kids):\n",
    "#                 c='true'\n",
    "            a.append(True)\n",
    "        else:\n",
    "#             d='false'\n",
    "            a.append(False)\n",
    "print(a)            \n",
    "            "
   ]
  },
  {
   "cell_type": "code",
   "execution_count": 69,
   "id": "d0694126",
   "metadata": {},
   "outputs": [
    {
     "name": "stdout",
     "output_type": "stream",
     "text": [
      "1\n",
      "2\n",
      "3\n",
      "1\n",
      "1\n",
      "3\n"
     ]
    }
   ],
   "source": [
    "a=[1,2,3,1,1,3]\n",
    "b=a.copy()\n",
    "for i in a:\n",
    "    print(i)   "
   ]
  },
  {
   "cell_type": "code",
   "execution_count": null,
   "id": "24116386",
   "metadata": {},
   "outputs": [],
   "source": []
  },
  {
   "cell_type": "code",
   "execution_count": 67,
   "id": "cd5716e6",
   "metadata": {},
   "outputs": [
    {
     "name": "stdout",
     "output_type": "stream",
     "text": [
      "table of 3\n",
      "3 x 1 = 3\n",
      "3 x 2 = 6\n",
      "3 x 3 = 9\n",
      "3 x 4 = 12\n",
      "3 x 5 = 15\n",
      "3 x 6 = 18\n",
      "3 x 7 = 21\n",
      "3 x 8 = 24\n",
      "3 x 9 = 27\n",
      "3 x 10 = 30\n"
     ]
    }
   ],
   "source": [
    "def table(n):\n",
    "    for i in range(1,11):\n",
    "        print(n,'x',i,'=',n*i)\n",
    "n=int(input('table of '))        \n",
    "table(n)        "
   ]
  },
  {
   "cell_type": "markdown",
   "id": "bc97130c",
   "metadata": {},
   "source": [
    "# number of good pairs leet code"
   ]
  },
  {
   "cell_type": "code",
   "execution_count": 12,
   "id": "913d57e2",
   "metadata": {},
   "outputs": [
    {
     "name": "stdout",
     "output_type": "stream",
     "text": [
      "3\n"
     ]
    }
   ],
   "source": [
    "# nums=[1,2,3,1,1,3]\n",
    "nums=[1,1,1]\n",
    "count=0\n",
    "n=len(nums)\n",
    "for i in range(n):\n",
    "    for j in range(i+1,n):\n",
    "        if nums[i]==nums[j]:\n",
    "            count+=1\n",
    "print(count)                   "
   ]
  },
  {
   "cell_type": "markdown",
   "id": "2299b937",
   "metadata": {},
   "source": [
    "# How many smaller number than the current number"
   ]
  },
  {
   "cell_type": "code",
   "execution_count": null,
   "id": "db43cf17",
   "metadata": {},
   "outputs": [],
   "source": []
  },
  {
   "cell_type": "code",
   "execution_count": 25,
   "id": "2288eb4e",
   "metadata": {
    "scrolled": true
   },
   "outputs": [
    {
     "name": "stdout",
     "output_type": "stream",
     "text": [
      "[4, 0, 1, 1, 3]\n"
     ]
    }
   ],
   "source": [
    "nums=[8,1,2,2,3]\n",
    "l=len(nums)\n",
    "ans=[]\n",
    "count=0\n",
    "for i in nums:\n",
    "#     print('i',i)\n",
    "    for j in range(l):\n",
    "#         print('j',j)\n",
    "        if (nums[j]-i)<0:\n",
    "#             print(\"nums[j]\",nums[j])\n",
    "#             print(\"i\",i)\n",
    "            count+=1\n",
    "#             print(count)\n",
    "    ans.append(count)\n",
    "    count=0\n",
    "print(ans)\n"
   ]
  },
  {
   "cell_type": "markdown",
   "id": "7bab2ee5",
   "metadata": {},
   "source": [
    "# Create target array in given order"
   ]
  },
  {
   "cell_type": "code",
   "execution_count": 29,
   "id": "e80228f5",
   "metadata": {},
   "outputs": [
    {
     "name": "stdout",
     "output_type": "stream",
     "text": [
      "[0, 1, 2, 2, 1, 1, 1, 1, 1, 2, 2, 2, 2, 2, 2, 2, 2, 1, 1, 1, 1, 0, 0, 0, 0]\n"
     ]
    }
   ],
   "source": [
    "a=[0,1,2,3,4]\n",
    "b=[0,1,2,2,1]\n",
    "c=[]\n",
    "for i in a:\n",
    "    for j in b:\n",
    "        c.insert(a[i],b[i])\n",
    "print(c)"
   ]
  },
  {
   "cell_type": "code",
   "execution_count": 27,
   "id": "96d2b32d",
   "metadata": {},
   "outputs": [
    {
     "name": "stdout",
     "output_type": "stream",
     "text": [
      "2 7\n",
      "7 2\n"
     ]
    }
   ],
   "source": [
    "numbers = [2, 7, 11, 15]\n",
    "target =9\n",
    "for x in numbers:\n",
    "    for y in numbers:\n",
    "        if x+y==target:\n",
    "            print(x,y)\n"
   ]
  },
  {
   "cell_type": "code",
   "execution_count": 47,
   "id": "ffcce499",
   "metadata": {},
   "outputs": [
    {
     "name": "stdout",
     "output_type": "stream",
     "text": [
      "[0, 4, 1, 3, 2]\n"
     ]
    }
   ],
   "source": [
    "num=[0,1,2,3,4]\n",
    "index=[0,1,2,2,1]\n",
    "target=[]\n",
    "for i,j in zip(num,index):\n",
    "    target.insert(j,i)\n",
    "print(target)    "
   ]
  },
  {
   "cell_type": "markdown",
   "id": "0537d4d9",
   "metadata": {},
   "source": [
    "# Palindrom number leet code"
   ]
  },
  {
   "cell_type": "code",
   "execution_count": 51,
   "id": "b5c62de2",
   "metadata": {},
   "outputs": [
    {
     "name": "stdout",
     "output_type": "stream",
     "text": [
      "ror\n",
      "True\n"
     ]
    }
   ],
   "source": [
    "x=input()\n",
    "y=x[::-1]\n",
    "if x==y:\n",
    "    print(True)\n",
    "    \n",
    "else:\n",
    "    print(False)\n"
   ]
  },
  {
   "cell_type": "code",
   "execution_count": 11,
   "id": "889a2006",
   "metadata": {},
   "outputs": [
    {
     "name": "stdout",
     "output_type": "stream",
     "text": [
      "mam\n",
      "True\n"
     ]
    }
   ],
   "source": [
    "a=input()\n",
    "print(str(a)==str(a)[::-1])"
   ]
  },
  {
   "cell_type": "markdown",
   "id": "c0ae9215",
   "metadata": {},
   "source": [
    "# Check if the sentence is pangram or not"
   ]
  },
  {
   "cell_type": "code",
   "execution_count": 10,
   "id": "356703c6",
   "metadata": {},
   "outputs": [
    {
     "name": "stdout",
     "output_type": "stream",
     "text": [
      "z\n"
     ]
    }
   ],
   "source": [
    "alpha=\"abcdefghijklmnopqrstuvwxyz\"\n",
    "for i in (alpha):\n",
    "    if i.isalpha():\n",
    "         True\n",
    "    else:\n",
    "         False\n",
    "print(i)    "
   ]
  },
  {
   "cell_type": "code",
   "execution_count": 1,
   "id": "46163b94",
   "metadata": {},
   "outputs": [
    {
     "data": {
      "text/plain": [
       "True"
      ]
     },
     "execution_count": 1,
     "metadata": {},
     "output_type": "execute_result"
    }
   ],
   "source": [
    "def pangram():\n",
    "    for i in a:\n",
    "        if i.isalpha():\n",
    "            return True\n",
    "        else:\n",
    "            return False\n",
    "    \n",
    "a=\"abcdefghijklmnopqrstuvwxy443z\" \n",
    "pangram()   "
   ]
  },
  {
   "cell_type": "code",
   "execution_count": 11,
   "id": "2ffa325f",
   "metadata": {},
   "outputs": [
    {
     "name": "stdout",
     "output_type": "stream",
     "text": [
      "leetcode\n",
      "False\n"
     ]
    }
   ],
   "source": [
    "sentence=input()\n",
    "# sentence='dailyeatfood'\n",
    "l=[]\n",
    "for j in range(len(sentence)):\n",
    "    if sentence[j] not in l:\n",
    "        l.append(sentence[j])\n",
    "#         print(l)\n",
    "if len(l)==26:\n",
    "    print(True) \n",
    "print(False)"
   ]
  },
  {
   "cell_type": "code",
   "execution_count": 4,
   "id": "0f6296d7",
   "metadata": {},
   "outputs": [
    {
     "ename": "SyntaxError",
     "evalue": "invalid syntax. Maybe you meant '==' or ':=' instead of '='? (2359244847.py, line 1)",
     "output_type": "error",
     "traceback": [
      "\u001b[1;36m  Input \u001b[1;32mIn [4]\u001b[1;36m\u001b[0m\n\u001b[1;33m    items = [[\"phone\",\"blue\",\"pixel\"],[\"computer\",\"silver\",\"lenovo\"],[\"phone\",\"gold\",\"iphone\"]], ruleKey = \"color\", ruleValue = \"silver\"\u001b[0m\n\u001b[1;37m    ^\u001b[0m\n\u001b[1;31mSyntaxError\u001b[0m\u001b[1;31m:\u001b[0m invalid syntax. Maybe you meant '==' or ':=' instead of '='?\n"
     ]
    }
   ],
   "source": [
    "items = [[\"phone\",\"blue\",\"pixel\"],[\"computer\",\"silver\",\"lenovo\"],[\"phone\",\"gold\",\"iphone\"]], ruleKey = \"color\", ruleValue = \"silver\"\n",
    "\n",
    "\n",
    "count=0\n",
    "if ruleKey=='type':\n",
    "    index=0\n",
    "elif ruleKey=='color':\n",
    "    index=1\n",
    "else:\n",
    "    index=2\n",
    "for x in items:\n",
    "    if ruleValue==x[index]:\n",
    "                count+=1\n",
    "    return count\n"
   ]
  },
  {
   "cell_type": "code",
   "execution_count": 12,
   "id": "db6159fe",
   "metadata": {},
   "outputs": [
    {
     "name": "stdout",
     "output_type": "stream",
     "text": [
      "0\n",
      "1\n",
      "1\n"
     ]
    }
   ],
   "source": [
    "items = [[\"phone\",\"blue\",\"pixel\"],[\"computer\",\"silver\",\"lenovo\"],[\"phone\",\"gold\",\"iphone\"]]\n",
    "ruleKey = \"color\"\n",
    "ruleValue = \"silver\"\n",
    "\n",
    "count=0\n",
    "for i in items:\n",
    "    if (ruleKey == \"type\" and i[0] == ruleValue):\n",
    "        count+=1\n",
    "    elif (ruleKey == \"color\" and i[1] == ruleValue):\n",
    "        count+=1\n",
    "    elif(ruleKey == \"name\" and i[2] == ruleValue):\n",
    "         count+= 1\n",
    "    print(count)\n",
    " "
   ]
  },
  {
   "cell_type": "code",
   "execution_count": 17,
   "id": "38f333f6",
   "metadata": {},
   "outputs": [
    {
     "name": "stdout",
     "output_type": "stream",
     "text": [
      "2\n"
     ]
    }
   ],
   "source": [
    "def solve(items, ruleKey, ruleValue):\n",
    "    count = 0\n",
    "    if ruleKey == \"type\":\n",
    "        for i in range(len(items)):\n",
    "            if items[i][0] == ruleValue:\n",
    "                count += 1\n",
    "    if ruleKey == \"color\":\n",
    "        for i in range(len(items)):\n",
    "            if items[i][1] == ruleValue:\n",
    "                count += 1\n",
    "    if ruleKey == \"name\":\n",
    "        for i in range(len(items)):\n",
    "            if items[i][2] == ruleValue:\n",
    "                count += 1\n",
    "    return count\n",
    "items = [[\"Bike\",\"blue\",\"ElecB\"],[\"Car\",\"silver\",\"Sumo\"],[\"Bike\",\"blue\",\"TVS\"]]\n",
    "ruleKey = \"color\"\n",
    "ruleValue = \"blue\"\n",
    "print(solve(items, ruleKey, ruleValue))"
   ]
  },
  {
   "cell_type": "code",
   "execution_count": 31,
   "id": "5e892bfd",
   "metadata": {},
   "outputs": [
    {
     "name": "stdout",
     "output_type": "stream",
     "text": [
      "2\n"
     ]
    }
   ],
   "source": [
    "items = [[\"phone\",\"blue\",\"pixel\"],[\"computer\",\"silver\",\"lenovo\"],[\"phone\",\"gold\",\"iphone\"]]\n",
    "ruleKey = \"color\"\n",
    "ruleValue = \"silver\"\n",
    "ruled={\"type\":0,\"color\":1,\"name\":2}\n",
    "c=0\n",
    "for i in items:\n",
    "#     print(i)\n",
    "#     print(items[ruled[ruleKey]])\n",
    "    if items[ruled[ruleKey]] == ruleValue:\n",
    "        print(items[ruled[ruleKey]])\n",
    "#         print(ruleValue)\n",
    "        count+=1\n",
    "print(count)            "
   ]
  },
  {
   "cell_type": "markdown",
   "id": "5c6413de",
   "metadata": {},
   "source": [
    "# sum diagonal matrix"
   ]
  },
  {
   "cell_type": "code",
   "execution_count": 4,
   "id": "00ef3cd1",
   "metadata": {},
   "outputs": [
    {
     "name": "stdout",
     "output_type": "stream",
     "text": [
      "25\n"
     ]
    }
   ],
   "source": [
    "mat=[[1,2,3],[4,5,6],[7,8,9]]\n",
    "total = 0 \n",
    "for i, x in enumerate(mat):\n",
    "    if i == len(mat)-i-1:\n",
    "        total += x[i]\n",
    "    else: \n",
    "        total += x[i] + x[len(mat)-i-1]\n",
    "print(total)"
   ]
  },
  {
   "cell_type": "code",
   "execution_count": 58,
   "id": "26c3b546",
   "metadata": {},
   "outputs": [
    {
     "name": "stdout",
     "output_type": "stream",
     "text": [
      "Enter the number to find the index1\n",
      "It is the index of given number 0\n"
     ]
    }
   ],
   "source": [
    "l=[1,2,3,4]\n",
    "m=int(input(\"Enter the number to find the index\"))\n",
    "for i in range(len(l)):\n",
    "    if m == l[i]:\n",
    "        print(\"It is the index of given number\",i)\n",
    "        break\n",
    "else:\n",
    "    print(-1)\n",
    "    "
   ]
  },
  {
   "cell_type": "code",
   "execution_count": 11,
   "id": "b951142f",
   "metadata": {},
   "outputs": [
    {
     "name": "stdout",
     "output_type": "stream",
     "text": [
      "[12, 322, 2]\n",
      "12\n"
     ]
    }
   ],
   "source": [
    "n=[12,322,2]\n",
    "s=str(n)\n",
    "print(s)\n",
    "print(len(s))"
   ]
  },
  {
   "cell_type": "markdown",
   "id": "f3aac964",
   "metadata": {},
   "source": [
    "# Find numbers with even number of digits"
   ]
  },
  {
   "cell_type": "code",
   "execution_count": 18,
   "id": "bf4eb964",
   "metadata": {},
   "outputs": [
    {
     "name": "stdout",
     "output_type": "stream",
     "text": [
      "3\n"
     ]
    }
   ],
   "source": [
    "nums = [12,345,21,6,7896]\n",
    "c=0\n",
    "for num in nums:\n",
    "#     print(num)\n",
    "    s=str(num)\n",
    "#     print(s)\n",
    "#     print(len(s))\n",
    "    if len(s)%2==0:\n",
    "        c+=1\n",
    "print(c)           "
   ]
  },
  {
   "cell_type": "markdown",
   "id": "99a434eb",
   "metadata": {},
   "source": [
    "# Transpose matrix"
   ]
  },
  {
   "cell_type": "code",
   "execution_count": 9,
   "id": "5d8c25b3",
   "metadata": {},
   "outputs": [
    {
     "name": "stdout",
     "output_type": "stream",
     "text": [
      "i 0\n",
      "j 0\n",
      "n [1]\n",
      "j 1\n",
      "n [1, 4]\n",
      "m [[1, 4]]\n",
      "i 1\n",
      "j 0\n",
      "n [2]\n",
      "j 1\n",
      "n [2, 5]\n",
      "m [[1, 4], [2, 5]]\n",
      "i 2\n",
      "j 0\n",
      "n [3]\n",
      "j 1\n",
      "n [3, 6]\n",
      "m [[1, 4], [2, 5], [3, 6]]\n"
     ]
    }
   ],
   "source": [
    "matrix=[[1,2,3],[4,5,6]]\n",
    "m=[]\n",
    "for i in range(len(matrix[0])):\n",
    "    print(\"i\",i)\n",
    "    n=[]\n",
    "    for j in range(len(matrix)):\n",
    "        print(\"j\",j)\n",
    "        n.append(matrix[j][i])\n",
    "        print(\"n\",n)\n",
    "    m.append(n)\n",
    "    print(\"m\",m)    "
   ]
  },
  {
   "cell_type": "code",
   "execution_count": 73,
   "id": "9e7ae86b",
   "metadata": {},
   "outputs": [
    {
     "name": "stdout",
     "output_type": "stream",
     "text": [
      "[0, -5, -4, 1, 1, -6]\n",
      "1\n"
     ]
    }
   ],
   "source": [
    "gain = [-5,1,5,0,-7]\n",
    "ans=[0]\n",
    "for i in range(len(gain)):\n",
    "#     print(ans[i],gain[i])\n",
    "#     print(ans[i]+gain[i])\n",
    "    ans.append(ans[i]+gain[i])\n",
    "print(ans)\n",
    "print(max(ans))\n"
   ]
  },
  {
   "cell_type": "code",
   "execution_count": 78,
   "id": "b332121e",
   "metadata": {},
   "outputs": [
    {
     "name": "stdout",
     "output_type": "stream",
     "text": [
      "12\n"
     ]
    }
   ],
   "source": [
    "a=12\n",
    "b=23\n",
    "print(a%b)"
   ]
  },
  {
   "cell_type": "code",
   "execution_count": 14,
   "id": "2f29723e",
   "metadata": {},
   "outputs": [
    {
     "name": "stdout",
     "output_type": "stream",
     "text": [
      "189\n"
     ]
    }
   ],
   "source": [
    "a=[2,1,5]\n",
    "sums= 0\n",
    "k=181\n",
    "for i in a:\n",
    "    sums +=i\n",
    "    d=sums + k\n",
    "#     x=d.split()\n",
    "print(d)"
   ]
  },
  {
   "cell_type": "code",
   "execution_count": 19,
   "id": "2ff4a6c3",
   "metadata": {},
   "outputs": [
    {
     "name": "stdout",
     "output_type": "stream",
     "text": [
      "[811]\n"
     ]
    }
   ],
   "source": [
    "b=[2,1,5]\n",
    "m=806\n",
    "n=[]\n",
    "for i in range(len(b)):\n",
    "    a=b[i]+m\n",
    "n.append(a)\n",
    "print(n)    "
   ]
  },
  {
   "cell_type": "code",
   "execution_count": 21,
   "id": "a2881d5a",
   "metadata": {},
   "outputs": [
    {
     "name": "stdout",
     "output_type": "stream",
     "text": [
      "[1, 0, 2, 1]\n"
     ]
    }
   ],
   "source": [
    "num=[2,1,5]\n",
    "k=806\n",
    "s=''.join(map(str,num))\n",
    "a=int(s)+k\n",
    "print([int(i) for i in str(a)])"
   ]
  },
  {
   "cell_type": "code",
   "execution_count": 25,
   "id": "1d18af60",
   "metadata": {},
   "outputs": [
    {
     "name": "stdout",
     "output_type": "stream",
     "text": [
      "['8', '0', '8']\n",
      "['8', '2', '7']\n",
      "['1', '0', '2', '1']\n"
     ]
    }
   ],
   "source": [
    "num=[2,1,5]\n",
    "k=806\n",
    "n = \"\"\n",
    "for i in num:\n",
    "    n+=str(i)\n",
    "    lista = int(n) + k\n",
    "    print(list(str(lista)))"
   ]
  },
  {
   "cell_type": "code",
   "execution_count": 15,
   "id": "b2d7a850",
   "metadata": {},
   "outputs": [
    {
     "name": "stdout",
     "output_type": "stream",
     "text": [
      "1\n"
     ]
    }
   ],
   "source": [
    "gain = [-5,1,5,0,-7]\n",
    "res=0\n",
    "height=0\n",
    "for i in gain:\n",
    "    height +=i\n",
    "#     print(res)\n",
    "    res=max(res,height)\n",
    "print(res)    "
   ]
  },
  {
   "cell_type": "code",
   "execution_count": 5,
   "id": "41bee26b",
   "metadata": {},
   "outputs": [
    {
     "ename": "TypeError",
     "evalue": "'int' object is not iterable",
     "output_type": "error",
     "traceback": [
      "\u001b[1;31m---------------------------------------------------------------------------\u001b[0m",
      "\u001b[1;31mTypeError\u001b[0m                                 Traceback (most recent call last)",
      "Input \u001b[1;32mIn [5]\u001b[0m, in \u001b[0;36m<cell line: 4>\u001b[1;34m()\u001b[0m\n\u001b[0;32m      4\u001b[0m \u001b[38;5;28;01mfor\u001b[39;00m i \u001b[38;5;129;01min\u001b[39;00m gain:\n\u001b[0;32m      5\u001b[0m     height \u001b[38;5;241m+\u001b[39m\u001b[38;5;241m=\u001b[39mi\n\u001b[1;32m----> 6\u001b[0m     c\u001b[38;5;241m=\u001b[39m\u001b[38;5;28;43mmax\u001b[39;49m\u001b[43m(\u001b[49m\u001b[43mheight\u001b[49m\u001b[43m)\u001b[49m\n\u001b[0;32m      7\u001b[0m \u001b[38;5;28mprint\u001b[39m(c)\n",
      "\u001b[1;31mTypeError\u001b[0m: 'int' object is not iterable"
     ]
    }
   ],
   "source": [
    "gain = [-5,1,5,0,-7]\n",
    "# res=0\n",
    "height=0\n",
    "for i in gain:\n",
    "    height +=i\n",
    "    c=max(height)\n",
    "print(c)    "
   ]
  },
  {
   "cell_type": "code",
   "execution_count": 9,
   "id": "6935a008",
   "metadata": {},
   "outputs": [
    {
     "ename": "SyntaxError",
     "evalue": "expected 'else' after 'if' expression (427235864.py, line 2)",
     "output_type": "error",
     "traceback": [
      "\u001b[1;36m  Input \u001b[1;32mIn [9]\u001b[1;36m\u001b[0m\n\u001b[1;33m    b=[True if a=[::-1] else False]\u001b[0m\n\u001b[1;37m       ^\u001b[0m\n\u001b[1;31mSyntaxError\u001b[0m\u001b[1;31m:\u001b[0m expected 'else' after 'if' expression\n"
     ]
    }
   ],
   "source": [
    "a=input(\"enter the name\")\n",
    "b=[True if a=[::-1] else False]\n",
    "print(b)"
   ]
  },
  {
   "cell_type": "code",
   "execution_count": 16,
   "id": "65e75a54",
   "metadata": {},
   "outputs": [
    {
     "name": "stdout",
     "output_type": "stream",
     "text": [
      "2.5\n",
      "2\n"
     ]
    }
   ],
   "source": [
    "print(5 / 2)\n",
    "print(5 // 2)"
   ]
  },
  {
   "cell_type": "code",
   "execution_count": 2,
   "id": "2a02d9f4",
   "metadata": {},
   "outputs": [
    {
     "name": "stdout",
     "output_type": "stream",
     "text": [
      "0 3 6 9 12 15 "
     ]
    }
   ],
   "source": [
    "count = 0\n",
    "while(True):\n",
    "    if count % 3 == 0:\n",
    "        print(count, end = \" \")\n",
    "    if(count > 15):\n",
    "        break;\n",
    "    count += 1\n"
   ]
  },
  {
   "cell_type": "code",
   "execution_count": 1,
   "id": "d7b46394",
   "metadata": {},
   "outputs": [
    {
     "name": "stdout",
     "output_type": "stream",
     "text": [
      "(10, 20)\n"
     ]
    }
   ],
   "source": [
    "def solve(a, b):\n",
    "#     return b if a == 0 else solve(b % a, a)\n",
    "      c=(b%a,a)\n",
    "      return c\n",
    "print(solve(20, 50))"
   ]
  },
  {
   "cell_type": "code",
   "execution_count": 5,
   "id": "712d484c",
   "metadata": {},
   "outputs": [
    {
     "name": "stdout",
     "output_type": "stream",
     "text": [
      "[2, 4, 6]\n",
      "[1, 3, 5]\n",
      "[2, 4, 6]\n"
     ]
    }
   ],
   "source": [
    "def solve(a):\n",
    "    a = [1, 3, 5]\n",
    "    return a\n",
    "a = [2, 4, 6]\n",
    "print(a)\n",
    "print(solve(a))\n",
    "print(a)"
   ]
  },
  {
   "cell_type": "code",
   "execution_count": 9,
   "id": "0a9ec485",
   "metadata": {},
   "outputs": [
    {
     "name": "stdout",
     "output_type": "stream",
     "text": [
      "[1, 2, 3]\n"
     ]
    }
   ],
   "source": [
    "def sol(a):\n",
    "    a=[1,2,3]\n",
    "    return a\n",
    "c=sol(a)\n",
    "print(c)"
   ]
  },
  {
   "cell_type": "code",
   "execution_count": 2,
   "id": "687cc0e3",
   "metadata": {},
   "outputs": [
    {
     "name": "stdout",
     "output_type": "stream",
     "text": [
      "Global\n"
     ]
    }
   ],
   "source": [
    "def func():\n",
    "    global value\n",
    "    value = \"Local\"\n",
    "   \n",
    "value = \"Global\"\n",
    "# func()\n",
    "print(value)"
   ]
  },
  {
   "cell_type": "code",
   "execution_count": 6,
   "id": "ead16b87",
   "metadata": {},
   "outputs": [
    {
     "name": "stdout",
     "output_type": "stream",
     "text": [
      "five neither thrive three "
     ]
    }
   ],
   "source": [
    "def thrive(n):\n",
    "    if n % 15 == 0:\n",
    "        print(\"thrive\", end =\" \" )\n",
    "    elif n % 3 != 0 and n % 5 != 0:\n",
    "        print(\"neither\", end =\" \")\n",
    "    elif n % 3 == 0:\n",
    "        print(\"three\", end =\" \")\n",
    "    elif n % 5 == 0:\n",
    "        print(\"five\", end =\" \")\n",
    "thrive(35)\n",
    "thrive(56)\n",
    "thrive(15)\n",
    "thrive(39)"
   ]
  },
  {
   "cell_type": "code",
   "execution_count": 7,
   "id": "cdcc4015",
   "metadata": {},
   "outputs": [
    {
     "name": "stdout",
     "output_type": "stream",
     "text": [
      "[2, 4, 7, 19, 22, 45, 72, 89]\n"
     ]
    }
   ],
   "source": [
    "numbers = (4, 7, 19, 2, 89, 45, 72, 22)\n",
    "sorted_numbers = sorted(numbers)\n",
    "print(sorted_numbers)"
   ]
  },
  {
   "cell_type": "code",
   "execution_count": 10,
   "id": "27d82b39",
   "metadata": {},
   "outputs": [
    {
     "name": "stdout",
     "output_type": "stream",
     "text": [
      "pYtHoN PrOgRaMmInG\n"
     ]
    }
   ],
   "source": [
    "word = \"Python Programming\"\n",
    "n = len(word)\n",
    "word1 = word.upper()\n",
    "word2 = word.lower()\n",
    "converted_word = \"\"\n",
    "for i in range(n):\n",
    "    if i % 2 == 0:\n",
    "           converted_word += word2[i]\n",
    "    else:\n",
    "           converted_word += word1[i]\n",
    "print(converted_word)"
   ]
  },
  {
   "cell_type": "code",
   "execution_count": 13,
   "id": "f2a10c4d",
   "metadata": {},
   "outputs": [
    {
     "name": "stdout",
     "output_type": "stream",
     "text": [
      "['Sunday', 'Monday', 'Tuesday', 'Wednesday'] "
     ]
    }
   ],
   "source": [
    "def tester(*argv):\n",
    "    for arg in argv:\n",
    "        print(arg, end = ' ')\n",
    "        \n",
    "tester(['Sunday', 'Monday', 'Tuesday', 'Wednesday'])"
   ]
  },
  {
   "cell_type": "code",
   "execution_count": 18,
   "id": "40e8a880",
   "metadata": {},
   "outputs": [
    {
     "name": "stdout",
     "output_type": "stream",
     "text": [
      "2\n",
      "3\n",
      "-3\n",
      "3.3\n"
     ]
    }
   ],
   "source": [
    "from math import *\n",
    "a = 2.19\n",
    "b = 3.999999\n",
    "c = -3.30\n",
    "print(int(a))\n",
    "print(floor(b))\n",
    "print(ceil(c))\n",
    "print( fabs(c))\n"
   ]
  },
  {
   "cell_type": "code",
   "execution_count": 19,
   "id": "8dea8504",
   "metadata": {},
   "outputs": [
    {
     "ename": "TypeError",
     "evalue": "unsupported operand type(s) for +: 'set' and 'set'",
     "output_type": "error",
     "traceback": [
      "\u001b[1;31m---------------------------------------------------------------------------\u001b[0m",
      "\u001b[1;31mTypeError\u001b[0m                                 Traceback (most recent call last)",
      "Input \u001b[1;32mIn [19]\u001b[0m, in \u001b[0;36m<cell line: 3>\u001b[1;34m()\u001b[0m\n\u001b[0;32m      1\u001b[0m set1 \u001b[38;5;241m=\u001b[39m {\u001b[38;5;241m1\u001b[39m, \u001b[38;5;241m3\u001b[39m, \u001b[38;5;241m5\u001b[39m}\n\u001b[0;32m      2\u001b[0m set2 \u001b[38;5;241m=\u001b[39m {\u001b[38;5;241m2\u001b[39m, \u001b[38;5;241m4\u001b[39m, \u001b[38;5;241m6\u001b[39m}\n\u001b[1;32m----> 3\u001b[0m \u001b[38;5;28mprint\u001b[39m(\u001b[38;5;28mlen\u001b[39m(\u001b[43mset1\u001b[49m\u001b[43m \u001b[49m\u001b[38;5;241;43m+\u001b[39;49m\u001b[43m \u001b[49m\u001b[43mset2\u001b[49m))\n",
      "\u001b[1;31mTypeError\u001b[0m: unsupported operand type(s) for +: 'set' and 'set'"
     ]
    }
   ],
   "source": [
    "set1 = {1, 3, 5}\n",
    "set2 = {2, 4, 6}\n",
    "print(len(set1 + set2))"
   ]
  },
  {
   "cell_type": "code",
   "execution_count": 25,
   "id": "49cdecf7",
   "metadata": {},
   "outputs": [
    {
     "name": "stdout",
     "output_type": "stream",
     "text": [
      "6\n"
     ]
    }
   ],
   "source": [
    "set1 = {1, 3, 5}\n",
    "set2 = {2, 4, 6,5}\n",
    "print(len(set1 | set2))"
   ]
  },
  {
   "cell_type": "code",
   "execution_count": 26,
   "id": "b7b2fe00",
   "metadata": {},
   "outputs": [
    {
     "name": "stdout",
     "output_type": "stream",
     "text": [
      "0\n"
     ]
    }
   ],
   "source": [
    "set1 = {1, 3, 5}\n",
    "set2 = {2, 4, 6}\n",
    "print(len(set1 & set2))"
   ]
  },
  {
   "cell_type": "code",
   "execution_count": 30,
   "id": "3535fcaa",
   "metadata": {},
   "outputs": [
    {
     "name": "stdout",
     "output_type": "stream",
     "text": [
      "{1, 3}\n"
     ]
    }
   ],
   "source": [
    "set1 = {1, 3, 5}\n",
    "set2 = {2, 4, 5,5}\n",
    "print(set1 - set2)\n",
    "# print(len(set1 - set2))"
   ]
  },
  {
   "cell_type": "code",
   "execution_count": 34,
   "id": "54d37e47",
   "metadata": {},
   "outputs": [
    {
     "name": "stdout",
     "output_type": "stream",
     "text": [
      "{1, 3, 5, 6}\n"
     ]
    }
   ],
   "source": [
    "s1 = {1, 2, 3, 4, 5}\n",
    "s2 = {2, 4, 6}\n",
    "print(s1 ^ s2)  #symmetric_difference keep all but not the duplicate\n"
   ]
  },
  {
   "cell_type": "code",
   "execution_count": 35,
   "id": "090aca21",
   "metadata": {},
   "outputs": [
    {
     "name": "stdout",
     "output_type": "stream",
     "text": [
      "33\n"
     ]
    }
   ],
   "source": [
    "print(str(2 ** 3 + 5 ** 2))"
   ]
  },
  {
   "cell_type": "code",
   "execution_count": null,
   "id": "eb19c6ff",
   "metadata": {},
   "outputs": [],
   "source": []
  },
  {
   "cell_type": "code",
   "execution_count": 1,
   "id": "be883215",
   "metadata": {},
   "outputs": [
    {
     "name": "stdout",
     "output_type": "stream",
     "text": [
      "[[1, 2, 0], [1, 2, 1], [0, 3, 0]]\n"
     ]
    }
   ],
   "source": [
    "A=[[1,1,0],[1,0,1],[0,0,0]]\n",
    "n = len(A)\n",
    "for i in range(n):\n",
    "      for j in range((n + 2) // 2):\n",
    "        A[i][j],A[i][n-j-2] = A[i][n-j-1]^2, A[i][j]^1\n",
    "print(A)\n"
   ]
  },
  {
   "cell_type": "code",
   "execution_count": 12,
   "id": "0387497a",
   "metadata": {},
   "outputs": [
    {
     "name": "stdout",
     "output_type": "stream",
     "text": [
      "[[1, 0, 0], [0, 1, 0], [1, 1, 1]]\n"
     ]
    }
   ],
   "source": [
    "image=[[1,1,0],[1,0,1],[0,0,0]]\n",
    "for i in range(len(image)):\n",
    "    c=image[i].reverse()\n",
    "#     print(\"c\",c)\n",
    "    for j in range(len(image[i])):\n",
    "        if image[i][j] == 0:\n",
    "            image[i][j] = 1\n",
    "        elif image[i][j] == 1:\n",
    "            image[i][j] = 0\n",
    "print(image)"
   ]
  },
  {
   "cell_type": "code",
   "execution_count": 25,
   "id": "9b0533bc",
   "metadata": {},
   "outputs": [
    {
     "name": "stdout",
     "output_type": "stream",
     "text": [
      "A= [[1, 0, 0], [0, 1, 0], [1, 1, 1]]\n"
     ]
    }
   ],
   "source": [
    "A=[[1,1,0],[1,0,1],[0,0,0]]\n",
    "for i in range(len(A)):\n",
    "    A[i] = A[i][::-1]\n",
    "#     print(\"A[i]=\",A[i])\n",
    "    for j in range(len(A[i])):\n",
    "#         print('a[i]=',A[i],'a[j]=',A[j])\n",
    "        A[i][j] = 1 - A[i][j]\n",
    "#         print('then a[i]=',A[i],'a[j]=',A[j])\n",
    "print('A=',A)"
   ]
  },
  {
   "cell_type": "code",
   "execution_count": 4,
   "id": "f2494741",
   "metadata": {},
   "outputs": [],
   "source": [
    "for i in range(1,10,-1):\n",
    "    print(i)"
   ]
  },
  {
   "cell_type": "code",
   "execution_count": 10,
   "id": "b677b153",
   "metadata": {},
   "outputs": [
    {
     "name": "stdout",
     "output_type": "stream",
     "text": [
      "65432\n"
     ]
    }
   ],
   "source": [
    "a=\"123456789\"\n",
    "print(a[5:-9:-1])"
   ]
  },
  {
   "cell_type": "code",
   "execution_count": 34,
   "id": "5093f6e9",
   "metadata": {},
   "outputs": [
    {
     "ename": "TypeError",
     "evalue": "'list' object cannot be interpreted as an integer",
     "output_type": "error",
     "traceback": [
      "\u001b[1;31m---------------------------------------------------------------------------\u001b[0m",
      "\u001b[1;31mTypeError\u001b[0m                                 Traceback (most recent call last)",
      "Input \u001b[1;32mIn [34]\u001b[0m, in \u001b[0;36m<cell line: 3>\u001b[1;34m()\u001b[0m\n\u001b[0;32m      1\u001b[0m M\u001b[38;5;241m=\u001b[39m [[\u001b[38;5;241m1\u001b[39m,\u001b[38;5;241m2\u001b[39m,\u001b[38;5;241m3\u001b[39m],[\u001b[38;5;241m4\u001b[39m,\u001b[38;5;241m5\u001b[39m,\u001b[38;5;241m6\u001b[39m],[\u001b[38;5;241m7\u001b[39m,\u001b[38;5;241m8\u001b[39m,\u001b[38;5;241m9\u001b[39m]]\n\u001b[0;32m      2\u001b[0m \u001b[38;5;28msum\u001b[39m\u001b[38;5;241m=\u001b[39m\u001b[38;5;241m0\u001b[39m\n\u001b[1;32m----> 3\u001b[0m \u001b[38;5;28;01mfor\u001b[39;00m i \u001b[38;5;129;01min\u001b[39;00m \u001b[38;5;28;43mrange\u001b[39;49m\u001b[43m(\u001b[49m\u001b[43mM\u001b[49m\u001b[43m)\u001b[49m:\n\u001b[0;32m      4\u001b[0m     \u001b[38;5;28;01mfor\u001b[39;00m j \u001b[38;5;129;01min\u001b[39;00m \u001b[38;5;28mrange\u001b[39m(M):\n\u001b[0;32m      5\u001b[0m         \u001b[38;5;28;01mif\u001b[39;00m i\u001b[38;5;241m==\u001b[39mj:\n",
      "\u001b[1;31mTypeError\u001b[0m: 'list' object cannot be interpreted as an integer"
     ]
    }
   ],
   "source": [
    "M= [[1,2,3],[4,5,6],[7,8,9]]\n",
    "sum=0\n",
    "for i in range(M):\n",
    "    for j in range(M):\n",
    "        if i==j:\n",
    "            sum=sum+M[i][j]\n",
    "        elif i+j==M-1:\n",
    "            sum=sum+M[i][j]\n",
    "print(sum)\n"
   ]
  },
  {
   "cell_type": "code",
   "execution_count": 36,
   "id": "a02c05f2",
   "metadata": {},
   "outputs": [
    {
     "name": "stdout",
     "output_type": "stream",
     "text": [
      "25\n"
     ]
    }
   ],
   "source": [
    "mat= [[1,2,3],[4,5,6],[7,8,9]]\n",
    "res = 0\n",
    "j = len(mat)-1\n",
    "for i in range(len(mat)):\n",
    "    res += mat[i][i]\n",
    "    res += mat[i][j]\n",
    "    j -= 1\n",
    "print(res if len(mat) % 2 == 0 else res - mat[len(mat)//2][len(mat)//2])\n"
   ]
  },
  {
   "cell_type": "code",
   "execution_count": 37,
   "id": "274622d7",
   "metadata": {},
   "outputs": [
    {
     "name": "stdout",
     "output_type": "stream",
     "text": [
      "Value in 1st function : 5\n",
      "Value in 2nd function : 555\n",
      "Value in 3rd function : 555\n"
     ]
    }
   ],
   "source": [
    "x = 5\n",
    "\n",
    "# defining 1st function\n",
    "def function1():\n",
    "    print(\"Value in 1st function :\", x)\n",
    "\n",
    "# defining 2nd function\n",
    "def function2():\n",
    "    # Modify global variable using global keyword\n",
    "    global x\n",
    "    x = 555\n",
    "    print(\"Value in 2nd function :\", x)\n",
    "\n",
    "# defining 3rd function\n",
    "def function3():\n",
    "    print(\"Value in 3rd function :\", x)\n",
    "\n",
    "function1()\n",
    "function2()\n",
    "function3()"
   ]
  },
  {
   "cell_type": "code",
   "execution_count": 11,
   "id": "7abe0b11",
   "metadata": {},
   "outputs": [
    {
     "name": "stdout",
     "output_type": "stream",
     "text": [
      "6\n"
     ]
    }
   ],
   "source": [
    "class A:\n",
    "\tdef __init__(self):\n",
    "\t\tself.count=5\n",
    "\t\tself.count=6\n",
    "a=A()\n",
    "print(a.count)"
   ]
  },
  {
   "cell_type": "code",
   "execution_count": 44,
   "id": "180e4675",
   "metadata": {},
   "outputs": [
    {
     "name": "stdout",
     "output_type": "stream",
     "text": [
      "2546726290624\n",
      "2546726290624\n"
     ]
    }
   ],
   "source": [
    "class Book:\n",
    "\tdef __init__(self,author):\n",
    "\t\tself.author=author\n",
    "book1=Book(\"V.M.Shah\")\n",
    "book2=book1\n",
    "print(id(book1))\n",
    "print(id(book2))"
   ]
  },
  {
   "cell_type": "code",
   "execution_count": 43,
   "id": "b6c51a39",
   "metadata": {},
   "outputs": [
    {
     "name": "stdout",
     "output_type": "stream",
     "text": [
      "1 2\n"
     ]
    }
   ],
   "source": [
    "class A:\n",
    "    def __init__(self, x= 1):\n",
    "        self.x = x\n",
    "class der(A):\n",
    "    def __init__(self,y = 2):\n",
    "        super().__init__()\n",
    "        self.y = y\n",
    "def main():\n",
    "    obj = der()\n",
    "    print(obj.x, obj.y)\n",
    "main()\n"
   ]
  },
  {
   "cell_type": "code",
   "execution_count": 49,
   "id": "7df3fa91",
   "metadata": {},
   "outputs": [
    {
     "name": "stdout",
     "output_type": "stream",
     "text": [
      "97\n"
     ]
    }
   ],
   "source": [
    "print(ord(chr(97)))\n"
   ]
  },
  {
   "cell_type": "code",
   "execution_count": 53,
   "id": "69824fda",
   "metadata": {},
   "outputs": [
    {
     "name": "stdout",
     "output_type": "stream",
     "text": [
      "x\n"
     ]
    }
   ],
   "source": [
    "a=0\n",
    "\n",
    "b=5\n",
    "\n",
    "x=(a&b)|(a&a)|(a|b)\n",
    "\n",
    "print(\"x\")\n"
   ]
  },
  {
   "cell_type": "code",
   "execution_count": 55,
   "id": "b5c3cac8",
   "metadata": {},
   "outputs": [
    {
     "name": "stdout",
     "output_type": "stream",
     "text": [
      "inside elif block\n"
     ]
    }
   ],
   "source": [
    "if False:\n",
    "\tprint (\"inside if block\")\n",
    "elif True:\n",
    "\tprint (\"inside elif block\")\n",
    "else:\n",
    "\n",
    "\tprint (\"inside else block\")"
   ]
  },
  {
   "cell_type": "code",
   "execution_count": 5,
   "id": "01b0849f",
   "metadata": {},
   "outputs": [
    {
     "name": "stdout",
     "output_type": "stream",
     "text": [
      "2223353941504\n",
      "2223353812608\n"
     ]
    }
   ],
   "source": [
    "# list are less efficient as compare to tuple\n",
    "a=[]\n",
    "b=[]\n",
    "print(id(a))\n",
    "print(id(b))"
   ]
  },
  {
   "cell_type": "code",
   "execution_count": 10,
   "id": "9685837d",
   "metadata": {},
   "outputs": [
    {
     "name": "stdout",
     "output_type": "stream",
     "text": [
      "2223245836400\n",
      "2223245836400\n",
      "<class 'tuple'>\n",
      "<class 'tuple'>\n"
     ]
    }
   ],
   "source": [
    "c=()\n",
    "d=()\n",
    "print(id(c))\n",
    "print(id(d))\n",
    "print(type(c))\n",
    "print(type(d))"
   ]
  },
  {
   "cell_type": "code",
   "execution_count": 3,
   "id": "8012e2eb",
   "metadata": {},
   "outputs": [
    {
     "name": "stdout",
     "output_type": "stream",
     "text": [
      "4\n",
      "9\n",
      "25\n"
     ]
    }
   ],
   "source": [
    "mat=[[1,2,3],[4,5,6],[7,8,9]]\n",
    "total = 0 \n",
    "for i, x in enumerate(mat):\n",
    "    if i == len(mat)-i-1:\n",
    "        total += x[i]\n",
    "    else: \n",
    "        total += x[i] + x[len(mat)-i-1]\n",
    "print(total)"
   ]
  },
  {
   "cell_type": "code",
   "execution_count": 4,
   "id": "85acdd72",
   "metadata": {},
   "outputs": [],
   "source": [
    "# how many times object and refrence variable will be there at end line 11\n",
    "class Table:\n",
    "    def __init__(self):\n",
    "        self.no_of_legs=4\n",
    "        self.glass_top=None\n",
    "        self.wooden_top=None\n",
    "dining_table=Table()\n",
    "back_table=Table()\n",
    "front_table=back_table\n",
    "back_table=dining_table\n",
    "dining_table=front_table\n",
    "front_table=back_table  #11"
   ]
  },
  {
   "cell_type": "code",
   "execution_count": 3,
   "id": "252699ca",
   "metadata": {},
   "outputs": [
    {
     "name": "stdout",
     "output_type": "stream",
     "text": [
      "dining_table <__main__.Table object at 0x0000025DD941E5F0>\n",
      "back_table <__main__.Table object at 0x0000025DD941C1C0>\n",
      "front_table <__main__.Table object at 0x0000025DD941C1C0>\n",
      "back_table <__main__.Table object at 0x0000025DD941E5F0>\n",
      "dining_table <__main__.Table object at 0x0000025DD941C1C0>\n",
      "front_table <__main__.Table object at 0x0000025DD941E5F0>\n"
     ]
    }
   ],
   "source": [
    "# how many times object and refrence variable will be there at end line 11\n",
    "class Table:\n",
    "    def __init__(self):\n",
    "        self.no_of_legs=4\n",
    "        self.glass_top=None\n",
    "        self.wooden_top=None\n",
    "dining_table=Table()\n",
    "print('dining_table',dining_table)\n",
    "back_table=Table()\n",
    "print('back_table',back_table)\n",
    "front_table=back_table\n",
    "print('front_table',front_table)\n",
    "back_table=dining_table\n",
    "print('back_table',back_table)\n",
    "dining_table=front_table\n",
    "print('dining_table',dining_table)\n",
    "front_table=back_table  #11\n",
    "print('front_table',front_table)\n"
   ]
  },
  {
   "cell_type": "code",
   "execution_count": 1,
   "id": "41f51ff6",
   "metadata": {},
   "outputs": [
    {
     "name": "stdout",
     "output_type": "stream",
     "text": [
      "Inside class\n",
      "<__main__.A object at 0x000001E352CAF550>\n",
      "<__main__.A object at 0x000001E352CAE170>\n",
      "<__main__.A object at 0x000001E352CAF550>\n"
     ]
    }
   ],
   "source": [
    "class A:\n",
    "\tprint(\"Inside class\")\n",
    "print(A())\n",
    "print(A())\n",
    "obj=A()\n",
    "print(obj)"
   ]
  },
  {
   "cell_type": "code",
   "execution_count": 2,
   "id": "68fa659b",
   "metadata": {},
   "outputs": [
    {
     "name": "stdout",
     "output_type": "stream",
     "text": [
      "poWer\n"
     ]
    }
   ],
   "source": [
    "str1=\"poWer\"\n",
    "str1.upper()\n",
    "print(str1) \n",
    "# Explanation: str1.upper() returns the uppercase of whole string str1.\n",
    "# However,it doesnot change the string str1. So, output will be the original str1.\n",
    "\n",
    "\n"
   ]
  },
  {
   "cell_type": "code",
   "execution_count": 9,
   "id": "3fdc0c02",
   "metadata": {},
   "outputs": [
    {
     "name": "stdout",
     "output_type": "stream",
     "text": [
      "15\n"
     ]
    }
   ],
   "source": [
    "list1=[0,2,5,1]\n",
    "\n",
    "str1=7\n",
    "\n",
    "for i in list1:\n",
    "\n",
    "\tstr1=str1+i\n",
    "\n",
    "print(str1)\n"
   ]
  },
  {
   "cell_type": "code",
   "execution_count": 12,
   "id": "44663ae7",
   "metadata": {},
   "outputs": [
    {
     "name": "stdout",
     "output_type": "stream",
     "text": [
      "Simon\n"
     ]
    }
   ],
   "source": [
    "str1=\"John,Simon,Aryan\"\n",
    "print(str1[-11:-6])"
   ]
  },
  {
   "cell_type": "code",
   "execution_count": 13,
   "id": "d7e50988",
   "metadata": {},
   "outputs": [
    {
     "name": "stdout",
     "output_type": "stream",
     "text": [
      "[]\n"
     ]
    }
   ],
   "source": [
    "list1=[]*3\n",
    "print(list1)"
   ]
  },
  {
   "cell_type": "code",
   "execution_count": 20,
   "id": "3a055da5",
   "metadata": {},
   "outputs": [
    {
     "name": "stdout",
     "output_type": "stream",
     "text": [
      "2.0\n"
     ]
    }
   ],
   "source": [
    "# average calculate\n",
    "list1=[1,2,3]\n",
    "print(sum(list1)/len(list1))"
   ]
  },
  {
   "cell_type": "code",
   "execution_count": 2,
   "id": "bb4ca55b",
   "metadata": {},
   "outputs": [
    {
     "name": "stdout",
     "output_type": "stream",
     "text": [
      "(1, 2, 4, {5, 6, 7})\n"
     ]
    }
   ],
   "source": [
    "s=(1,2,4,{5,6,7})\n",
    "print(s)"
   ]
  },
  {
   "cell_type": "code",
   "execution_count": 3,
   "id": "d6de68e5",
   "metadata": {},
   "outputs": [
    {
     "ename": "TypeError",
     "evalue": "unhashable type: 'list'",
     "output_type": "error",
     "traceback": [
      "\u001b[1;31m---------------------------------------------------------------------------\u001b[0m",
      "\u001b[1;31mTypeError\u001b[0m                                 Traceback (most recent call last)",
      "Input \u001b[1;32mIn [3]\u001b[0m, in \u001b[0;36m<cell line: 1>\u001b[1;34m()\u001b[0m\n\u001b[1;32m----> 1\u001b[0m l\u001b[38;5;241m=\u001b[39m{\u001b[38;5;241m2\u001b[39m,\u001b[38;5;241m3\u001b[39m,\u001b[38;5;241m4\u001b[39m,[\u001b[38;5;241m6\u001b[39m,\u001b[38;5;241m8\u001b[39m,\u001b[38;5;241m0\u001b[39m]}\n\u001b[0;32m      2\u001b[0m \u001b[38;5;28mprint\u001b[39m(l)\n",
      "\u001b[1;31mTypeError\u001b[0m: unhashable type: 'list'"
     ]
    }
   ],
   "source": [
    "l={2,3,4,[6,8,0]}\n",
    "print(l)"
   ]
  },
  {
   "cell_type": "code",
   "execution_count": 9,
   "id": "bf2977ee",
   "metadata": {},
   "outputs": [
    {
     "name": "stdout",
     "output_type": "stream",
     "text": [
      " In class A\n",
      " In class B\n"
     ]
    }
   ],
   "source": [
    "class A:\n",
    "    def process(self):\n",
    "        print(\" In class A\")\n",
    "\n",
    "class B(A):\n",
    "    def process(self):\n",
    "        b=super().process()\n",
    "        print(\" In class B\")\n",
    "\n",
    "class C(B, A):\n",
    "#     def process(self):\n",
    "        pass\n",
    "#         print(\" In class C\")\n",
    "\n",
    "# Creating object of C class\n",
    "C1 = C()\n",
    "C1.process()\n",
    "# print(C.mro())\n"
   ]
  },
  {
   "cell_type": "code",
   "execution_count": 17,
   "id": "56613706",
   "metadata": {},
   "outputs": [
    {
     "name": "stdout",
     "output_type": "stream",
     "text": [
      "[4, 3, 5, 4]\n"
     ]
    }
   ],
   "source": [
    "l=[4,54,3,4,5,6,4,23]\n",
    "print(l[0:8:2])"
   ]
  },
  {
   "cell_type": "code",
   "execution_count": 22,
   "id": "4ef20e8e",
   "metadata": {},
   "outputs": [
    {
     "name": "stdout",
     "output_type": "stream",
     "text": [
      "[4, 5, 3, 4]\n"
     ]
    }
   ],
   "source": [
    "l=[4,54,3,4,5,6,4,23]\n",
    "m=l[::-1]\n",
    "print(m[1::2])"
   ]
  },
  {
   "cell_type": "markdown",
   "id": "330918fe",
   "metadata": {},
   "source": [
    "# ip=[4,54,3,4,5,6,4,23] op=[4,5,3,4]"
   ]
  },
  {
   "cell_type": "code",
   "execution_count": 19,
   "id": "e7d5a66a",
   "metadata": {},
   "outputs": [
    {
     "name": "stdout",
     "output_type": "stream",
     "text": [
      "[4, 5, 3, 4]\n"
     ]
    }
   ],
   "source": [
    "l=[4,54,3,4,5,6,4,23]\n",
    "print(l[-2::-2])"
   ]
  },
  {
   "cell_type": "code",
   "execution_count": 24,
   "id": "f5b29bdd",
   "metadata": {},
   "outputs": [
    {
     "name": "stdout",
     "output_type": "stream",
     "text": [
      "python\n"
     ]
    }
   ],
   "source": [
    "str1=\"python\"\n",
    "print(str1[0:1000])\n"
   ]
  },
  {
   "cell_type": "code",
   "execution_count": 26,
   "id": "c7013952",
   "metadata": {},
   "outputs": [
    {
     "name": "stdout",
     "output_type": "stream",
     "text": [
      "POWER\n"
     ]
    }
   ],
   "source": [
    "str1=\"poWer\"\n",
    "\n",
    "c=str1.upper()\n",
    "\n",
    "print(c)\n"
   ]
  },
  {
   "cell_type": "code",
   "execution_count": 33,
   "id": "e440c5c7",
   "metadata": {},
   "outputs": [
    {
     "name": "stdout",
     "output_type": "stream",
     "text": [
      "7\n",
      "9\n",
      "14\n",
      "15\n"
     ]
    }
   ],
   "source": [
    "list1=[0,2,5,1]\n",
    "\n",
    "str1=7\n",
    "\n",
    "for i in list1:\n",
    "    str1=str1+i\n",
    "    print(str1)\n"
   ]
  },
  {
   "cell_type": "code",
   "execution_count": 38,
   "id": "81728b05",
   "metadata": {},
   "outputs": [
    {
     "name": "stdout",
     "output_type": "stream",
     "text": [
      "()\n"
     ]
    }
   ],
   "source": [
    "tupl=(\"annie\",\"hena\",\"sid\")\n",
    "\n",
    "print(tupl[-3:0])\n"
   ]
  },
  {
   "cell_type": "code",
   "execution_count": 40,
   "id": "576c562d",
   "metadata": {},
   "outputs": [
    {
     "name": "stdout",
     "output_type": "stream",
     "text": [
      "a\n",
      "b\n",
      "c\n"
     ]
    }
   ],
   "source": [
    "dict1={\"a\":10,\"b\":2,\"c\":3}\n",
    "for i in dict1:\n",
    "    print(i)"
   ]
  },
  {
   "cell_type": "code",
   "execution_count": 48,
   "id": "98826002",
   "metadata": {},
   "outputs": [
    {
     "name": "stdout",
     "output_type": "stream",
     "text": [
      "2\n",
      " 2 is not a Perfect Number\n"
     ]
    }
   ],
   "source": [
    "num = int(input())\n",
    "Sum = 0\n",
    "for i in range(1, num):\n",
    "    if(num % i == 0):\n",
    "        Sum = Sum + i\n",
    "if (Sum == num):\n",
    "    print(\" %d is a Perfect Number\" %num)\n",
    "else:\n",
    "    print(\" %d is not a Perfect Number\" %num)\n"
   ]
  },
  {
   "cell_type": "code",
   "execution_count": 55,
   "id": "0852560d",
   "metadata": {},
   "outputs": [
    {
     "name": "stdout",
     "output_type": "stream",
     "text": [
      "0\n",
      "1\n",
      "8\n",
      "27\n",
      "64\n"
     ]
    },
    {
     "ename": "StopIteration",
     "evalue": "",
     "output_type": "error",
     "traceback": [
      "\u001b[1;31m---------------------------------------------------------------------------\u001b[0m",
      "\u001b[1;31mStopIteration\u001b[0m                             Traceback (most recent call last)",
      "Input \u001b[1;32mIn [55]\u001b[0m, in \u001b[0;36m<cell line: 24>\u001b[1;34m()\u001b[0m\n\u001b[0;32m     22\u001b[0m \u001b[38;5;28mprint\u001b[39m(\u001b[38;5;28mnext\u001b[39m(i))\n\u001b[0;32m     23\u001b[0m \u001b[38;5;28mprint\u001b[39m(\u001b[38;5;28mnext\u001b[39m(i))\n\u001b[1;32m---> 24\u001b[0m \u001b[38;5;28mprint\u001b[39m(\u001b[38;5;28;43mnext\u001b[39;49m\u001b[43m(\u001b[49m\u001b[43mi\u001b[49m\u001b[43m)\u001b[49m)\n",
      "Input \u001b[1;32mIn [55]\u001b[0m, in \u001b[0;36mcube.__next__\u001b[1;34m(self)\u001b[0m\n\u001b[0;32m     11\u001b[0m     \u001b[38;5;28;01mreturn\u001b[39;00m result\n\u001b[0;32m     12\u001b[0m \u001b[38;5;28;01melse\u001b[39;00m:\n\u001b[1;32m---> 13\u001b[0m     \u001b[38;5;28;01mraise\u001b[39;00m \u001b[38;5;167;01mStopIteration\u001b[39;00m\n",
      "\u001b[1;31mStopIteration\u001b[0m: "
     ]
    }
   ],
   "source": [
    "class cube:\n",
    "    def __init__(self, max=0):\n",
    "        self.max = max\n",
    "    def __iter__(self):\n",
    "        self.n = 0\n",
    "        return self\n",
    "    def __next__(self):\n",
    "        if self.n <= self.max:\n",
    "            result = self.n**3\n",
    "            self.n += 1\n",
    "            return result\n",
    "        else:\n",
    "            raise StopIteration\n",
    "# create an object\n",
    "numbers = cube(4)\n",
    "# create an iterable from the object\n",
    "i = iter(numbers)\n",
    "# Using next to get to the next iterator element\n",
    "print(next(i))\n",
    "print(next(i))\n",
    "print(next(i))\n",
    "print(next(i))\n",
    "print(next(i))\n",
    "print(next(i))\n"
   ]
  },
  {
   "cell_type": "code",
   "execution_count": 2,
   "id": "504e9037",
   "metadata": {},
   "outputs": [
    {
     "name": "stdout",
     "output_type": "stream",
     "text": [
      "[0, 0, 0]\n"
     ]
    }
   ],
   "source": [
    "l=[1,2,0]\n",
    "for i in range(len(l)):\n",
    "    if l[i]<9:\n",
    "        l[i]+=1\n",
    "    l[i]=0\n",
    "    i-=1\n",
    "print(l)    "
   ]
  },
  {
   "cell_type": "code",
   "execution_count": 4,
   "id": "7af6bbe5",
   "metadata": {},
   "outputs": [
    {
     "name": "stdout",
     "output_type": "stream",
     "text": [
      "[1, 2, 4]\n"
     ]
    }
   ],
   "source": [
    "digits=[1,2,3]\n",
    "a=''.join(map(str,digits))\n",
    "b=int(a)+1\n",
    "c=str(b)\n",
    "print(list(map(int,c)))\n"
   ]
  },
  {
   "cell_type": "code",
   "execution_count": 8,
   "id": "bbe236db",
   "metadata": {},
   "outputs": [
    {
     "ename": "TypeError",
     "evalue": "can only concatenate str (not \"int\") to str",
     "output_type": "error",
     "traceback": [
      "\u001b[1;31m---------------------------------------------------------------------------\u001b[0m",
      "\u001b[1;31mTypeError\u001b[0m                                 Traceback (most recent call last)",
      "Input \u001b[1;32mIn [8]\u001b[0m, in \u001b[0;36m<cell line: 3>\u001b[1;34m()\u001b[0m\n\u001b[0;32m      1\u001b[0m digits\u001b[38;5;241m=\u001b[39m[\u001b[38;5;241m1\u001b[39m,\u001b[38;5;241m2\u001b[39m,\u001b[38;5;241m9\u001b[39m]\n\u001b[0;32m      2\u001b[0m a\u001b[38;5;241m=\u001b[39m\u001b[38;5;124m'\u001b[39m\u001b[38;5;124m'\u001b[39m\u001b[38;5;241m.\u001b[39mjoin(\u001b[38;5;28mmap\u001b[39m(\u001b[38;5;28mstr\u001b[39m,digits))\n\u001b[1;32m----> 3\u001b[0m b\u001b[38;5;241m=\u001b[39m\u001b[43ma\u001b[49m\u001b[38;5;241;43m+\u001b[39;49m\u001b[38;5;241;43m1\u001b[39;49m\n\u001b[0;32m      4\u001b[0m \u001b[38;5;66;03m# c=str(b)\u001b[39;00m\n\u001b[0;32m      5\u001b[0m \u001b[38;5;28mprint\u001b[39m(\u001b[38;5;28mlist\u001b[39m(\u001b[38;5;28mmap\u001b[39m(\u001b[38;5;28mint\u001b[39m,b)))\n",
      "\u001b[1;31mTypeError\u001b[0m: can only concatenate str (not \"int\") to str"
     ]
    }
   ],
   "source": [
    "digits=[1,2,9]\n",
    "a=''.join(map(str,digits))\n",
    "b=a+1\n",
    "# c=str(b)\n",
    "print(list(map(int,b)))\n"
   ]
  },
  {
   "cell_type": "code",
   "execution_count": 12,
   "id": "4f420b53",
   "metadata": {},
   "outputs": [
    {
     "data": {
      "text/plain": [
       "[1, 2, 4]"
      ]
     },
     "execution_count": 12,
     "metadata": {},
     "output_type": "execute_result"
    }
   ],
   "source": [
    "class Solution:\n",
    "    def plusOne(self, x):\n",
    "        y=[]\n",
    "        for i in x:\n",
    "            y.append(str(i))\n",
    "        z=int(\"\".join(y))\n",
    "        e=str(z+1)\n",
    "        l=[]\n",
    "        for c in e:\n",
    "            l.append(int(c))\n",
    "        return l\n",
    "user=Solution()\n",
    "user.plusOne([1,2,3])"
   ]
  },
  {
   "cell_type": "code",
   "execution_count": 9,
   "id": "433c5be0",
   "metadata": {},
   "outputs": [
    {
     "name": "stdout",
     "output_type": "stream",
     "text": [
      "[1, 2, 4, 3]\n"
     ]
    }
   ],
   "source": [
    "a=[1,2,4]\n",
    "b=a\n",
    "a.append(3)\n",
    "print(b)"
   ]
  },
  {
   "cell_type": "code",
   "execution_count": 10,
   "id": "e52c782d",
   "metadata": {},
   "outputs": [
    {
     "name": "stdout",
     "output_type": "stream",
     "text": [
      "[12, 13, 14]\n"
     ]
    }
   ],
   "source": [
    "a=[12,13,14]\n",
    "b=a.copy()\n",
    "a.append(15)\n",
    "print(b)"
   ]
  },
  {
   "cell_type": "code",
   "execution_count": 16,
   "id": "1e8bb206",
   "metadata": {},
   "outputs": [
    {
     "name": "stdout",
     "output_type": "stream",
     "text": [
      "the answer of and b is 5.0\n",
      "hello\n"
     ]
    }
   ],
   "source": [
    "try:\n",
    "    a=10\n",
    "    b=2\n",
    "    c=a/b\n",
    "    print(\"the answer of and b is\",c)\n",
    "except:\n",
    "    print(\"cant divide with zero,provide non zero num\")\n",
    "    \n",
    "finally:\n",
    "    print(\"hello\")"
   ]
  },
  {
   "cell_type": "code",
   "execution_count": 14,
   "id": "13fbd85b",
   "metadata": {},
   "outputs": [
    {
     "ename": "ZeroDivisionError",
     "evalue": "division by zero",
     "output_type": "error",
     "traceback": [
      "\u001b[1;31m---------------------------------------------------------------------------\u001b[0m",
      "\u001b[1;31mZeroDivisionError\u001b[0m                         Traceback (most recent call last)",
      "Input \u001b[1;32mIn [14]\u001b[0m, in \u001b[0;36m<cell line: 3>\u001b[1;34m()\u001b[0m\n\u001b[0;32m      1\u001b[0m a\u001b[38;5;241m=\u001b[39m\u001b[38;5;241m10\u001b[39m\n\u001b[0;32m      2\u001b[0m b\u001b[38;5;241m=\u001b[39m\u001b[38;5;241m0\u001b[39m\n\u001b[1;32m----> 3\u001b[0m c\u001b[38;5;241m=\u001b[39m\u001b[43ma\u001b[49m\u001b[38;5;241;43m/\u001b[39;49m\u001b[43mb\u001b[49m\n\u001b[0;32m      4\u001b[0m \u001b[38;5;28mprint\u001b[39m(\u001b[38;5;124m\"\u001b[39m\u001b[38;5;124mthe answer of and b is\u001b[39m\u001b[38;5;124m\"\u001b[39m,c)\n\u001b[0;32m      5\u001b[0m \u001b[38;5;28mprint\u001b[39m(\u001b[38;5;124m\"\u001b[39m\u001b[38;5;124mhello\u001b[39m\u001b[38;5;124m\"\u001b[39m)\n",
      "\u001b[1;31mZeroDivisionError\u001b[0m: division by zero"
     ]
    }
   ],
   "source": [
    "a=10\n",
    "b=0\n",
    "c=a/b\n",
    "print(\"the answer of and b is\",c)\n",
    "print(\"hello\")"
   ]
  },
  {
   "cell_type": "code",
   "execution_count": 2,
   "id": "7f1f233f",
   "metadata": {},
   "outputs": [
    {
     "name": "stdout",
     "output_type": "stream",
     "text": [
      "['a', 'b']\n"
     ]
    }
   ],
   "source": [
    "d={\"a\":1,\"b\":2,\"a\":3}\n",
    "print(list(d))\n",
    "print(d)"
   ]
  },
  {
   "cell_type": "code",
   "execution_count": 4,
   "id": "e523b118",
   "metadata": {},
   "outputs": [
    {
     "name": "stdout",
     "output_type": "stream",
     "text": [
      "['a', 'b', 'c']\n"
     ]
    }
   ],
   "source": [
    "myDict = {'a': 'apple', 'b': 'banana', 'c': 'cherry'}\n",
    "keysList = list(myDict.keys())\n",
    "print(keysList)"
   ]
  },
  {
   "cell_type": "code",
   "execution_count": 7,
   "id": "776793b4",
   "metadata": {},
   "outputs": [
    {
     "ename": "TypeError",
     "evalue": "unhashable type: 'set'",
     "output_type": "error",
     "traceback": [
      "\u001b[1;31m---------------------------------------------------------------------------\u001b[0m",
      "\u001b[1;31mTypeError\u001b[0m                                 Traceback (most recent call last)",
      "Input \u001b[1;32mIn [7]\u001b[0m, in \u001b[0;36m<cell line: 1>\u001b[1;34m()\u001b[0m\n\u001b[1;32m----> 1\u001b[0m d1\u001b[38;5;241m=\u001b[39m{{\u001b[38;5;124m'\u001b[39m\u001b[38;5;124ma\u001b[39m\u001b[38;5;124m'\u001b[39m,\u001b[38;5;124m'\u001b[39m\u001b[38;5;124mb\u001b[39m\u001b[38;5;124m'\u001b[39m}:\u001b[38;5;241m1\u001b[39m}\n\u001b[0;32m      2\u001b[0m \u001b[38;5;28mprint\u001b[39m(d1)\n",
      "\u001b[1;31mTypeError\u001b[0m: unhashable type: 'set'"
     ]
    }
   ],
   "source": [
    "d1={{'a','b'}:1}\n",
    "print(d1)"
   ]
  },
  {
   "cell_type": "code",
   "execution_count": 14,
   "id": "39319cab",
   "metadata": {},
   "outputs": [
    {
     "name": "stdout",
     "output_type": "stream",
     "text": [
      "[None, None, None, None, None, None, None, None, None, None]\n",
      "10\n"
     ]
    }
   ],
   "source": [
    "l = [None] * 10\n",
    "print(l)\n",
    "print(len(l))\n"
   ]
  },
  {
   "cell_type": "code",
   "execution_count": 26,
   "id": "104e6fe7",
   "metadata": {},
   "outputs": [
    {
     "name": "stdout",
     "output_type": "stream",
     "text": [
      "zpyative\n"
     ]
    }
   ],
   "source": [
    "list1 = ['bxyz', 'ara', 'zpyative']\n",
    "print (max(list1))"
   ]
  },
  {
   "cell_type": "code",
   "execution_count": 30,
   "id": "8617ea72",
   "metadata": {},
   "outputs": [
    {
     "ename": "TypeError",
     "evalue": "'>' not supported between instances of 'str' and 'int'",
     "output_type": "error",
     "traceback": [
      "\u001b[1;31m---------------------------------------------------------------------------\u001b[0m",
      "\u001b[1;31mTypeError\u001b[0m                                 Traceback (most recent call last)",
      "Input \u001b[1;32mIn [30]\u001b[0m, in \u001b[0;36m<cell line: 2>\u001b[1;34m()\u001b[0m\n\u001b[0;32m      1\u001b[0m tuple1 \u001b[38;5;241m=\u001b[39m (\u001b[38;5;241m1120\u001b[39m, \u001b[38;5;124m'\u001b[39m\u001b[38;5;124ma\u001b[39m\u001b[38;5;124m'\u001b[39m)\n\u001b[1;32m----> 2\u001b[0m \u001b[38;5;28mprint\u001b[39m(\u001b[38;5;28;43mmax\u001b[39;49m\u001b[43m(\u001b[49m\u001b[43mtuple1\u001b[49m\u001b[43m)\u001b[49m)\n",
      "\u001b[1;31mTypeError\u001b[0m: '>' not supported between instances of 'str' and 'int'"
     ]
    }
   ],
   "source": [
    "tuple1 = (1120, 'a')\n",
    "print(max(tuple1))\n"
   ]
  },
  {
   "cell_type": "code",
   "execution_count": 31,
   "id": "67c76047",
   "metadata": {},
   "outputs": [
    {
     "name": "stdout",
     "output_type": "stream",
     "text": [
      "<class 'str'>\n"
     ]
    }
   ],
   "source": [
    "aTuple = (\"Orange\")\n",
    "print(type(aTuple))\n"
   ]
  },
  {
   "cell_type": "code",
   "execution_count": 32,
   "id": "b5915f2f",
   "metadata": {},
   "outputs": [
    {
     "name": "stdout",
     "output_type": "stream",
     "text": [
      "<class 'tuple'>\n"
     ]
    }
   ],
   "source": [
    "aTuple = tuple(\"Orange\")\n",
    "print(type(aTuple))\n"
   ]
  },
  {
   "cell_type": "code",
   "execution_count": 33,
   "id": "dec31a1a",
   "metadata": {},
   "outputs": [
    {
     "name": "stdout",
     "output_type": "stream",
     "text": [
      "<class 'tuple'>\n"
     ]
    }
   ],
   "source": [
    "aTuple = (\"Orange\",)\n",
    "print(type(aTuple))\n"
   ]
  },
  {
   "cell_type": "code",
   "execution_count": 34,
   "id": "7986c863",
   "metadata": {},
   "outputs": [
    {
     "name": "stdout",
     "output_type": "stream",
     "text": [
      "(100, 100)\n"
     ]
    }
   ],
   "source": [
    "aTuple = (100,)\n",
    "print(aTuple * 2)\n"
   ]
  },
  {
   "cell_type": "code",
   "execution_count": 44,
   "id": "79b3947c",
   "metadata": {},
   "outputs": [
    {
     "name": "stdout",
     "output_type": "stream",
     "text": [
      "(100, 200, 300, 400, 500)\n"
     ]
    },
    {
     "ename": "NameError",
     "evalue": "name 'aTuple' is not defined",
     "output_type": "error",
     "traceback": [
      "\u001b[1;31m---------------------------------------------------------------------------\u001b[0m",
      "\u001b[1;31mNameError\u001b[0m                                 Traceback (most recent call last)",
      "Input \u001b[1;32mIn [44]\u001b[0m, in \u001b[0;36m<cell line: 6>\u001b[1;34m()\u001b[0m\n\u001b[0;32m      4\u001b[0m \u001b[38;5;28;01mdel\u001b[39;00m aTuple\n\u001b[0;32m      5\u001b[0m \u001b[38;5;66;03m# print(aTuple[0:4])\u001b[39;00m\n\u001b[1;32m----> 6\u001b[0m \u001b[38;5;28mprint\u001b[39m(\u001b[43maTuple\u001b[49m)\n",
      "\u001b[1;31mNameError\u001b[0m: name 'aTuple' is not defined"
     ]
    }
   ],
   "source": [
    "aTuple = (100, 200, 300, 400, 500)\n",
    "print(aTuple)\n",
    "del aTuple\n",
    "# print(aTuple[0:4])\n",
    "print(aTuple)\n"
   ]
  },
  {
   "cell_type": "code",
   "execution_count": 41,
   "id": "dd953f3e",
   "metadata": {},
   "outputs": [
    {
     "name": "stdout",
     "output_type": "stream",
     "text": [
      "('orange',)\n",
      "<class 'tuple'>\n"
     ]
    }
   ],
   "source": [
    "a=\"orange\",\n",
    "print(a)\n",
    "print(type(a))"
   ]
  },
  {
   "cell_type": "code",
   "execution_count": 45,
   "id": "e5453b0d",
   "metadata": {},
   "outputs": [
    {
     "name": "stdout",
     "output_type": "stream",
     "text": [
      "{'Blue', 'Red', 'Orange', 'Yellow', 'Green', 'Black'}\n"
     ]
    }
   ],
   "source": [
    "sampleSet = {\"Yellow\", \"Orange\", \"Black\"}\n",
    "sampleSet.update([\"Blue\", \"Green\", \"Red\"])\n",
    "print(sampleSet)\n"
   ]
  },
  {
   "cell_type": "code",
   "execution_count": 46,
   "id": "164009cb",
   "metadata": {},
   "outputs": [
    {
     "name": "stdout",
     "output_type": "stream",
     "text": [
      "{'Black', 'Yellow'}\n"
     ]
    }
   ],
   "source": [
    "set1 = {\"Yellow\", \"Orange\", \"Black\"}\n",
    "set2 = {\"Orange\", \"Blue\", \"Pink\"}\n",
    "\n",
    "set1.difference_update(set2)\n",
    "print(set1)\n"
   ]
  },
  {
   "cell_type": "code",
   "execution_count": 47,
   "id": "ee9b8270",
   "metadata": {},
   "outputs": [
    {
     "name": "stdout",
     "output_type": "stream",
     "text": [
      "{'PYnative', 1, ('abc', 'xyz')}\n"
     ]
    }
   ],
   "source": [
    "aSet = {1, 'PYnative', ('abc', 'xyz'), True}\n",
    "print(aSet)\n"
   ]
  },
  {
   "cell_type": "code",
   "execution_count": 48,
   "id": "a0548a81",
   "metadata": {},
   "outputs": [
    {
     "ename": "TypeError",
     "evalue": "unhashable type: 'list'",
     "output_type": "error",
     "traceback": [
      "\u001b[1;31m---------------------------------------------------------------------------\u001b[0m",
      "\u001b[1;31mTypeError\u001b[0m                                 Traceback (most recent call last)",
      "Input \u001b[1;32mIn [48]\u001b[0m, in \u001b[0;36m<cell line: 1>\u001b[1;34m()\u001b[0m\n\u001b[1;32m----> 1\u001b[0m aSet \u001b[38;5;241m=\u001b[39m {\u001b[38;5;241m1\u001b[39m, \u001b[38;5;124m'\u001b[39m\u001b[38;5;124mPYnative\u001b[39m\u001b[38;5;124m'\u001b[39m, [\u001b[38;5;124m'\u001b[39m\u001b[38;5;124mabc\u001b[39m\u001b[38;5;124m'\u001b[39m, \u001b[38;5;124m'\u001b[39m\u001b[38;5;124mxyz\u001b[39m\u001b[38;5;124m'\u001b[39m], \u001b[38;5;28;01mTrue\u001b[39;00m}\n\u001b[0;32m      2\u001b[0m \u001b[38;5;28mprint\u001b[39m(aSet)\n",
      "\u001b[1;31mTypeError\u001b[0m: unhashable type: 'list'"
     ]
    }
   ],
   "source": [
    "aSet = {1, 'PYnative', ['abc', 'xyz'], True}\n",
    "print(aSet)\n"
   ]
  },
  {
   "cell_type": "code",
   "execution_count": 49,
   "id": "98f0bac6",
   "metadata": {},
   "outputs": [
    {
     "ename": "KeyError",
     "evalue": "'age'",
     "output_type": "error",
     "traceback": [
      "\u001b[1;31m---------------------------------------------------------------------------\u001b[0m",
      "\u001b[1;31mKeyError\u001b[0m                                  Traceback (most recent call last)",
      "Input \u001b[1;32mIn [49]\u001b[0m, in \u001b[0;36m<cell line: 2>\u001b[1;34m()\u001b[0m\n\u001b[0;32m      1\u001b[0m dict1 \u001b[38;5;241m=\u001b[39m {\u001b[38;5;124m\"\u001b[39m\u001b[38;5;124mname\u001b[39m\u001b[38;5;124m\"\u001b[39m: \u001b[38;5;124m\"\u001b[39m\u001b[38;5;124mMike\u001b[39m\u001b[38;5;124m\"\u001b[39m, \u001b[38;5;124m\"\u001b[39m\u001b[38;5;124msalary\u001b[39m\u001b[38;5;124m\"\u001b[39m: \u001b[38;5;241m8000\u001b[39m}\n\u001b[1;32m----> 2\u001b[0m temp \u001b[38;5;241m=\u001b[39m \u001b[43mdict1\u001b[49m\u001b[38;5;241;43m.\u001b[39;49m\u001b[43mpop\u001b[49m\u001b[43m(\u001b[49m\u001b[38;5;124;43m\"\u001b[39;49m\u001b[38;5;124;43mage\u001b[39;49m\u001b[38;5;124;43m\"\u001b[39;49m\u001b[43m)\u001b[49m\n\u001b[0;32m      3\u001b[0m \u001b[38;5;28mprint\u001b[39m(temp)\n",
      "\u001b[1;31mKeyError\u001b[0m: 'age'"
     ]
    }
   ],
   "source": [
    "dict1 = {\"name\": \"Mike\", \"salary\": 8000}\n",
    "temp = dict1.pop(\"age\")\n",
    "print(temp)"
   ]
  },
  {
   "cell_type": "code",
   "execution_count": 51,
   "id": "cffe03d3",
   "metadata": {},
   "outputs": [
    {
     "name": "stdout",
     "output_type": "stream",
     "text": [
      "My Name Is James Bond\n"
     ]
    }
   ],
   "source": [
    "str = \"my name is James bond\";\n",
    "print (str.title())\n"
   ]
  },
  {
   "cell_type": "code",
   "execution_count": 55,
   "id": "b1476070",
   "metadata": {},
   "outputs": [
    {
     "name": "stdout",
     "output_type": "stream",
     "text": [
      "False\n",
      "True\n"
     ]
    }
   ],
   "source": [
    "print(\"Jahn\" > \"Jhon\")\n",
    "print(\"Emma\" > \"EmmA\")\n"
   ]
  },
  {
   "cell_type": "code",
   "execution_count": 58,
   "id": "27c7b2c0",
   "metadata": {},
   "outputs": [
    {
     "name": "stdout",
     "output_type": "stream",
     "text": [
      "2\n"
     ]
    }
   ],
   "source": [
    "str1 = \"my isname isisis jameis isis bond\";\n",
    "sub = \"is\";\n",
    "print(str1.count(sub, 4,15))\n"
   ]
  },
  {
   "cell_type": "code",
   "execution_count": 62,
   "id": "70c26774",
   "metadata": {},
   "outputs": [
    {
     "name": "stdout",
     "output_type": "stream",
     "text": [
      "True\n"
     ]
    }
   ],
   "source": [
    "str = \"j\";\n",
    "print(str.isalnum())\n"
   ]
  },
  {
   "cell_type": "code",
   "execution_count": 65,
   "id": "b35b6cee",
   "metadata": {},
   "outputs": [
    {
     "name": "stdout",
     "output_type": "stream",
     "text": [
      "False\n",
      "False\n"
     ]
    }
   ],
   "source": [
    "str1 = \"My salary is\";\n",
    "str2 = \"7000 jj\"\n",
    "\n",
    "print(str1.isdigit())\n",
    "print(str2.isdigit())\n"
   ]
  },
  {
   "cell_type": "code",
   "execution_count": 66,
   "id": "e11c4a45",
   "metadata": {},
   "outputs": [
    {
     "name": "stdout",
     "output_type": "stream",
     "text": [
      "Yna PYnat tive PYnativ PYnativ\n"
     ]
    }
   ],
   "source": [
    "str1 = \"PYnative\"\n",
    "print(str1[1:4], str1[:5], str1[4:], str1[0:-1], str1[:-1])\n"
   ]
  },
  {
   "cell_type": "code",
   "execution_count": 73,
   "id": "7b01e8d4",
   "metadata": {},
   "outputs": [
    {
     "name": "stdout",
     "output_type": "stream",
     "text": [
      "True\n",
      "True\n",
      "1442413204976\n",
      "1442413204976\n"
     ]
    }
   ],
   "source": [
    "strOne = \"pynative\"\n",
    "strTwo = \"pynative\"\n",
    "print(strOne == strTwo)\n",
    "print(strOne is strTwo)\n",
    "print(id(strOne))\n",
    "print(id(strTwo))"
   ]
  },
  {
   "cell_type": "code",
   "execution_count": 75,
   "id": "85c5fd7d",
   "metadata": {},
   "outputs": [
    {
     "name": "stdout",
     "output_type": "stream",
     "text": [
      "WelcomPYnative\n"
     ]
    }
   ],
   "source": [
    "str1 = 'Welcome'\n",
    "print (str1[:6] + ' PYnative')\n"
   ]
  },
  {
   "cell_type": "code",
   "execution_count": 79,
   "id": "caaa483b",
   "metadata": {},
   "outputs": [
    {
     "name": "stdout",
     "output_type": "stream",
     "text": [
      "ma\n"
     ]
    }
   ],
   "source": [
    "var= \"James Bond\"\n",
    "print(var[2:-10:-1])"
   ]
  },
  {
   "cell_type": "code",
   "execution_count": 80,
   "id": "7d8aed64",
   "metadata": {},
   "outputs": [
    {
     "name": "stdout",
     "output_type": "stream",
     "text": [
      "1\n",
      "2\n",
      "3\n",
      "4\n",
      "this is else block statement\n"
     ]
    }
   ],
   "source": [
    "for i in range(1, 5):\n",
    "    print(i)\n",
    "else:\n",
    "    print(\"this is else block statement\" )\n"
   ]
  },
  {
   "cell_type": "code",
   "execution_count": 87,
   "id": "8fe2d7e9",
   "metadata": {},
   "outputs": [
    {
     "name": "stdout",
     "output_type": "stream",
     "text": [
      "Salary: 12000\n",
      "Salary: 12000\n"
     ]
    }
   ],
   "source": [
    "salary = 8000\n",
    "\n",
    "def printSalary():\n",
    "    global salary\n",
    "    salary = 12000\n",
    "    print(\"Salary:\", salary)\n",
    "  \n",
    "printSalary()\n",
    "print(\"Salary:\", salary)"
   ]
  },
  {
   "cell_type": "code",
   "execution_count": 88,
   "id": "67a50b81",
   "metadata": {},
   "outputs": [
    {
     "name": "stdout",
     "output_type": "stream",
     "text": [
      "182.0\n"
     ]
    }
   ],
   "source": [
    "x = 36 / 4 * (3 +  2) * 4 + 2\n",
    "print(x)\n"
   ]
  },
  {
   "cell_type": "code",
   "execution_count": 89,
   "id": "be9f164f",
   "metadata": {},
   "outputs": [
    {
     "name": "stdout",
     "output_type": "stream",
     "text": [
      "9.0\n"
     ]
    }
   ],
   "source": [
    "print(9.0*5*6)"
   ]
  },
  {
   "cell_type": "code",
   "execution_count": 94,
   "id": "a113a4cb",
   "metadata": {},
   "outputs": [
    {
     "ename": "TypeError",
     "evalue": "'float' object cannot be interpreted as an integer",
     "output_type": "error",
     "traceback": [
      "\u001b[1;31m---------------------------------------------------------------------------\u001b[0m",
      "\u001b[1;31mTypeError\u001b[0m                                 Traceback (most recent call last)",
      "Input \u001b[1;32mIn [94]\u001b[0m, in \u001b[0;36m<cell line: 1>\u001b[1;34m()\u001b[0m\n\u001b[1;32m----> 1\u001b[0m \u001b[38;5;28;01mfor\u001b[39;00m x \u001b[38;5;129;01min\u001b[39;00m \u001b[38;5;28;43mrange\u001b[39;49m\u001b[43m(\u001b[49m\u001b[38;5;241;43m1\u001b[39;49m\u001b[43m,\u001b[49m\u001b[43m \u001b[49m\u001b[38;5;241;43m5\u001b[39;49m\u001b[43m,\u001b[49m\u001b[43m \u001b[49m\u001b[38;5;241;43m1.2\u001b[39;49m\u001b[43m)\u001b[49m:\n\u001b[0;32m      2\u001b[0m   \u001b[38;5;28mprint\u001b[39m(x)\n",
      "\u001b[1;31mTypeError\u001b[0m: 'float' object cannot be interpreted as an integer"
     ]
    }
   ],
   "source": [
    "for x in range(1, 5, 1.2):\n",
    "  print(x)\n"
   ]
  },
  {
   "cell_type": "code",
   "execution_count": 95,
   "id": "f84dd4a3",
   "metadata": {},
   "outputs": [
    {
     "ename": "TypeError",
     "evalue": "list.append() takes exactly one argument (2 given)",
     "output_type": "error",
     "traceback": [
      "\u001b[1;31m---------------------------------------------------------------------------\u001b[0m",
      "\u001b[1;31mTypeError\u001b[0m                                 Traceback (most recent call last)",
      "Input \u001b[1;32mIn [95]\u001b[0m, in \u001b[0;36m<cell line: 2>\u001b[1;34m()\u001b[0m\n\u001b[0;32m      1\u001b[0m sampleList \u001b[38;5;241m=\u001b[39m [\u001b[38;5;124m\"\u001b[39m\u001b[38;5;124mJon\u001b[39m\u001b[38;5;124m\"\u001b[39m, \u001b[38;5;124m\"\u001b[39m\u001b[38;5;124mKelly\u001b[39m\u001b[38;5;124m\"\u001b[39m, \u001b[38;5;124m\"\u001b[39m\u001b[38;5;124mJessa\u001b[39m\u001b[38;5;124m\"\u001b[39m]\n\u001b[1;32m----> 2\u001b[0m \u001b[43msampleList\u001b[49m\u001b[38;5;241;43m.\u001b[39;49m\u001b[43mappend\u001b[49m\u001b[43m(\u001b[49m\u001b[38;5;241;43m2\u001b[39;49m\u001b[43m,\u001b[49m\u001b[43m \u001b[49m\u001b[38;5;124;43m\"\u001b[39;49m\u001b[38;5;124;43mScott\u001b[39;49m\u001b[38;5;124;43m\"\u001b[39;49m\u001b[43m)\u001b[49m\n\u001b[0;32m      3\u001b[0m \u001b[38;5;28mprint\u001b[39m(sampleList)\n",
      "\u001b[1;31mTypeError\u001b[0m: list.append() takes exactly one argument (2 given)"
     ]
    }
   ],
   "source": [
    "sampleList = [\"Jon\", \"Kelly\", \"Jessa\"]\n",
    "sampleList.append(2, \"Scott\")\n",
    "print(sampleList)\n"
   ]
  },
  {
   "cell_type": "code",
   "execution_count": 3,
   "id": "355599a1",
   "metadata": {},
   "outputs": [
    {
     "name": "stdout",
     "output_type": "stream",
     "text": [
      "[1, 2, 3]\n",
      "[1, 2, 3, 6, 9, 8, 7, 4]\n",
      "[1, 2, 3, 6, 9, 8, 7, 4, 5]\n",
      "[1, 2, 3, 6, 9, 8, 7, 4, 5]\n"
     ]
    }
   ],
   "source": [
    "matrix = [[1,2,3],[4,5,6],[7,8,9]]\n",
    "out = []\n",
    "while matrix:\n",
    "    out+=matrix.pop(0)\n",
    "    print(out)\n",
    "    if matrix:\n",
    "        for i in range(len(matrix)-1):\n",
    "            if len(matrix[i])!=0:\n",
    "                    out.append(matrix[i].pop())\n",
    "    if matrix:\n",
    "        out+=matrix.pop()[::-1]\n",
    "    if matrix:\n",
    "        for i in range(1,len(matrix)+1 ):\n",
    "            if len(matrix[-i])!=0:\n",
    "                out.append(matrix[-i].pop(0))\n",
    "            \n",
    "    print(out)\n"
   ]
  },
  {
   "cell_type": "code",
   "execution_count": null,
   "id": "ac080bf3",
   "metadata": {},
   "outputs": [],
   "source": []
  }
 ],
 "metadata": {
  "kernelspec": {
   "display_name": "Python 3 (ipykernel)",
   "language": "python",
   "name": "python3"
  },
  "language_info": {
   "codemirror_mode": {
    "name": "ipython",
    "version": 3
   },
   "file_extension": ".py",
   "mimetype": "text/x-python",
   "name": "python",
   "nbconvert_exporter": "python",
   "pygments_lexer": "ipython3",
   "version": "3.10.6"
  }
 },
 "nbformat": 4,
 "nbformat_minor": 5
}
